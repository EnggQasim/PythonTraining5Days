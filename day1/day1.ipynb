{
 "cells": [
  {
   "cell_type": "code",
   "execution_count": 1,
   "id": "a5a08733",
   "metadata": {},
   "outputs": [
    {
     "name": "stdout",
     "output_type": "stream",
     "text": [
      "Hello World\n"
     ]
    }
   ],
   "source": [
    "print(\"Hello World\")"
   ]
  },
  {
   "cell_type": "markdown",
   "id": "98457fdd",
   "metadata": {},
   "source": [
    "# Day1\n",
    "# Create Virtual envornment\n",
    "* select your workdirectly\n",
    "    * open terminal ubnuntu\n",
    "    * Windows Os\n",
    "        * address bar -> select address bar text -> remove- >cmd\n",
    "    * Window button -> anaconda prompt -> cd <path>\n",
    "    * `python -m venv <envname>`\n",
    "        * `source abc/bin/activate`\n",
    "        * Windows\n",
    "            * `.\\abc\\Scripts\\activate`\n",
    "    * install packages\n",
    "        * `pip install flask django gunicorn numpy pandas`\n",
    "* Hello World in python\n",
    "    * terminal -> pthon\n",
    "        * `print(\"Hello World\")\n",
    "    * touch **abc.py**\n",
    "        * `print(\"Hello world\")`\n",
    "        * **python abc.py**\n",
    "    * VS code \n",
    "        * `code .`\n",
    "    * jupyter notebook\n",
    "        * `jupyter notebook`\n"
   ]
  },
  {
   "cell_type": "markdown",
   "id": "bcb3d1dd",
   "metadata": {},
   "source": [
    "# Today contents\n",
    "## Data Types"
   ]
  },
  {
   "cell_type": "markdown",
   "id": "f7bd54c8",
   "metadata": {},
   "source": [
    "### str"
   ]
  },
  {
   "cell_type": "code",
   "execution_count": 2,
   "id": "d3e277a6",
   "metadata": {},
   "outputs": [
    {
     "name": "stdout",
     "output_type": "stream",
     "text": [
      "Pakistan zinda bad!\n",
      "<class 'str'>\n",
      "139858570272816\n"
     ]
    }
   ],
   "source": [
    "a = 'Pakistan zinda bad!'\n",
    "print(a)\n",
    "print(type(a))\n",
    "print(id(a))"
   ]
  },
  {
   "cell_type": "code",
   "execution_count": 3,
   "id": "f462c9a9",
   "metadata": {},
   "outputs": [
    {
     "name": "stdout",
     "output_type": "stream",
     "text": [
      "Pakistan zinda bad!\n",
      "<class 'str'>\n",
      "139858570275296\n"
     ]
    }
   ],
   "source": [
    "a = \"Pakistan zinda bad!\"\n",
    "print(a)\n",
    "print(type(a))\n",
    "print(id(a))"
   ]
  },
  {
   "cell_type": "code",
   "execution_count": 4,
   "id": "98937c17",
   "metadata": {},
   "outputs": [
    {
     "ename": "SyntaxError",
     "evalue": "invalid syntax (<ipython-input-4-e6b50e3f9321>, line 1)",
     "output_type": "error",
     "traceback": [
      "\u001b[0;36m  File \u001b[0;32m\"<ipython-input-4-e6b50e3f9321>\"\u001b[0;36m, line \u001b[0;32m1\u001b[0m\n\u001b[0;31m    a = 'Pakistan's zinda bad!'\u001b[0m\n\u001b[0m                  ^\u001b[0m\n\u001b[0;31mSyntaxError\u001b[0m\u001b[0;31m:\u001b[0m invalid syntax\n"
     ]
    }
   ],
   "source": [
    "a = 'Pakistan's zinda bad!'\n",
    "print(a)\n",
    "print(type(a))\n",
    "print(id(a))"
   ]
  },
  {
   "cell_type": "code",
   "execution_count": 5,
   "id": "1f7f6461",
   "metadata": {},
   "outputs": [
    {
     "name": "stdout",
     "output_type": "stream",
     "text": [
      "Pakistan's zinda bad!\n",
      "<class 'str'>\n",
      "139858570257472\n"
     ]
    }
   ],
   "source": [
    "a = 'Pakistan\\'s zinda bad!'\n",
    "print(a)\n",
    "print(type(a))\n",
    "print(id(a))"
   ]
  },
  {
   "cell_type": "code",
   "execution_count": 6,
   "id": "6fd76a17",
   "metadata": {},
   "outputs": [
    {
     "ename": "SyntaxError",
     "evalue": "EOL while scanning string literal (<ipython-input-6-f932260e08c6>, line 1)",
     "output_type": "error",
     "traceback": [
      "\u001b[0;36m  File \u001b[0;32m\"<ipython-input-6-f932260e08c6>\"\u001b[0;36m, line \u001b[0;32m1\u001b[0m\n\u001b[0;31m    a = 'Pakistan zinda bad!\u001b[0m\n\u001b[0m                            ^\u001b[0m\n\u001b[0;31mSyntaxError\u001b[0m\u001b[0;31m:\u001b[0m EOL while scanning string literal\n"
     ]
    }
   ],
   "source": [
    "a = 'Pakistan zinda bad!\n",
    "we love our country\n",
    "I am pakistani\n",
    "'\n",
    "print(a)\n",
    "print(type(a))\n",
    "print(id(a))"
   ]
  },
  {
   "cell_type": "code",
   "execution_count": 7,
   "id": "c94fcd0c",
   "metadata": {},
   "outputs": [
    {
     "name": "stdout",
     "output_type": "stream",
     "text": [
      "Pakistan zinda bad!we love our countryI am pakistani\n",
      "<class 'str'>\n",
      "139858570270736\n"
     ]
    }
   ],
   "source": [
    "a = 'Pakistan zinda bad!\\\n",
    "we love our country\\\n",
    "I am pakistani\\\n",
    "'\n",
    "print(a)\n",
    "print(type(a))\n",
    "print(id(a))"
   ]
  },
  {
   "cell_type": "code",
   "execution_count": 9,
   "id": "95a2a512",
   "metadata": {},
   "outputs": [
    {
     "name": "stdout",
     "output_type": "stream",
     "text": [
      "Pakistan zinda bad!\n",
      "we love our country\n",
      "I am pakistani\n",
      "\n",
      "<class 'str'>\n",
      "139858579138912\n"
     ]
    }
   ],
   "source": [
    "a = '''Pakistan zinda bad!\n",
    "we love our country\n",
    "I am pakistani\n",
    "'''\n",
    "print(a)\n",
    "print(type(a))\n",
    "print(id(a))"
   ]
  },
  {
   "cell_type": "code",
   "execution_count": 10,
   "id": "78860a5b",
   "metadata": {},
   "outputs": [
    {
     "data": {
      "text/plain": [
       "'Pakistan zinda bad!\\nwe love our country\\nI am pakistani\\n'"
      ]
     },
     "execution_count": 10,
     "metadata": {},
     "output_type": "execute_result"
    }
   ],
   "source": [
    "a"
   ]
  },
  {
   "cell_type": "code",
   "execution_count": 11,
   "id": "de2829e0",
   "metadata": {},
   "outputs": [
    {
     "name": "stdout",
     "output_type": "stream",
     "text": [
      "Pakistan zinda bad!\n",
      "we love our country\n",
      "I am pakistani\n",
      "\n",
      "<class 'str'>\n",
      "139858570269056\n"
     ]
    }
   ],
   "source": [
    "a = \"\"\"Pakistan zinda bad!\n",
    "we love our country\n",
    "I am pakistani\n",
    "\"\"\"\n",
    "print(a)\n",
    "print(type(a))\n",
    "print(id(a))"
   ]
  },
  {
   "cell_type": "markdown",
   "id": "c9c08636",
   "metadata": {},
   "source": [
    "### String formation (concatination)"
   ]
  },
  {
   "cell_type": "code",
   "execution_count": 13,
   "id": "458be605",
   "metadata": {},
   "outputs": [
    {
     "name": "stdout",
     "output_type": "stream",
     "text": [
      "Dear Muhammmad Qasim, Welcome!\n"
     ]
    }
   ],
   "source": [
    "a = \"Muhammmad\"\n",
    "b = \"Qasim\"\n",
    "\n",
    "result = \"Dear \"+a+\" \"+b+\", Welcome!\"\n",
    "\n",
    "print(result)"
   ]
  },
  {
   "cell_type": "code",
   "execution_count": 14,
   "id": "be617b48",
   "metadata": {},
   "outputs": [
    {
     "ename": "TypeError",
     "evalue": "can only concatenate str (not \"int\") to str",
     "output_type": "error",
     "traceback": [
      "\u001b[0;31m----------------------------------------------------------------------\u001b[0m",
      "\u001b[0;31mTypeError\u001b[0m                            Traceback (most recent call last)",
      "\u001b[0;32m<ipython-input-14-1af070e70692>\u001b[0m in \u001b[0;36m<module>\u001b[0;34m\u001b[0m\n\u001b[1;32m      3\u001b[0m \u001b[0mage\u001b[0m \u001b[0;34m=\u001b[0m \u001b[0;36m30\u001b[0m\u001b[0;34m\u001b[0m\u001b[0;34m\u001b[0m\u001b[0m\n\u001b[1;32m      4\u001b[0m \u001b[0;34m\u001b[0m\u001b[0m\n\u001b[0;32m----> 5\u001b[0;31m \u001b[0mresult\u001b[0m \u001b[0;34m=\u001b[0m \u001b[0;34m\"Dear \"\u001b[0m\u001b[0;34m+\u001b[0m\u001b[0ma\u001b[0m\u001b[0;34m+\u001b[0m\u001b[0;34m\" \"\u001b[0m\u001b[0;34m+\u001b[0m\u001b[0mb\u001b[0m\u001b[0;34m+\u001b[0m\u001b[0;34m\", Welcome! you are \"\u001b[0m\u001b[0;34m+\u001b[0m\u001b[0mage\u001b[0m\u001b[0;34m+\u001b[0m\u001b[0;34m\" old\"\u001b[0m\u001b[0;34m\u001b[0m\u001b[0;34m\u001b[0m\u001b[0m\n\u001b[0m\u001b[1;32m      6\u001b[0m \u001b[0;34m\u001b[0m\u001b[0m\n\u001b[1;32m      7\u001b[0m \u001b[0mprint\u001b[0m\u001b[0;34m(\u001b[0m\u001b[0mresult\u001b[0m\u001b[0;34m)\u001b[0m\u001b[0;34m\u001b[0m\u001b[0;34m\u001b[0m\u001b[0m\n",
      "\u001b[0;31mTypeError\u001b[0m: can only concatenate str (not \"int\") to str"
     ]
    }
   ],
   "source": [
    "a = \"Muhammmad\"\n",
    "b = \"Qasim\"\n",
    "age = 30\n",
    "\n",
    "result = \"Dear \"+a+\" \"+b+\", Welcome! you are \"+age+\" old\"\n",
    "\n",
    "print(result)"
   ]
  },
  {
   "cell_type": "code",
   "execution_count": 15,
   "id": "168dc157",
   "metadata": {},
   "outputs": [
    {
     "name": "stdout",
     "output_type": "stream",
     "text": [
      "Dear Muhammmad Qasim, Welcome! you are 30 old\n"
     ]
    }
   ],
   "source": [
    "a = \"Muhammmad\"\n",
    "b = \"Qasim\"\n",
    "age = 30\n",
    "\n",
    "result = \"Dear \"+a+\" \"+b+\", Welcome! you are \"+str(age)+\" old\"\n",
    "\n",
    "print(result)"
   ]
  },
  {
   "cell_type": "code",
   "execution_count": 16,
   "id": "e426d84f",
   "metadata": {},
   "outputs": [
    {
     "name": "stdout",
     "output_type": "stream",
     "text": [
      "Dear Muhammmad Qasim, Welcome! you are 30 old\n"
     ]
    }
   ],
   "source": [
    "a = \"Muhammmad\"\n",
    "b = \"Qasim\"\n",
    "age = 30\n",
    "\n",
    "result = \"Dear {} {}, Welcome! you are {} old\".format(a,b,age)\n",
    "\n",
    "print(result)"
   ]
  },
  {
   "cell_type": "code",
   "execution_count": 17,
   "id": "f879feb7",
   "metadata": {},
   "outputs": [
    {
     "name": "stdout",
     "output_type": "stream",
     "text": [
      "Dear 30 Qasim, Welcome! you are Muhammmad old\n"
     ]
    }
   ],
   "source": [
    "a = \"Muhammmad\"\n",
    "b = \"Qasim\"\n",
    "age = 30\n",
    "\n",
    "result = \"Dear {2} {1}, Welcome! you are {0} old\".format(a,b,age)\n",
    "\n",
    "print(result)"
   ]
  },
  {
   "cell_type": "code",
   "execution_count": 18,
   "id": "3ac7494a",
   "metadata": {},
   "outputs": [
    {
     "name": "stdout",
     "output_type": "stream",
     "text": [
      "Dear Muhammmad Qasim, Welcome! you are 30 old\n"
     ]
    }
   ],
   "source": [
    "a = \"Muhammmad\"\n",
    "b = \"Qasim\"\n",
    "age = 30\n",
    "\n",
    "result = f\"Dear {a} {b}, Welcome! you are {age} old\"\n",
    "\n",
    "print(result)"
   ]
  },
  {
   "cell_type": "code",
   "execution_count": 24,
   "id": "d8f49661",
   "metadata": {},
   "outputs": [
    {
     "name": "stdout",
     "output_type": "stream",
     "text": [
      "\n",
      "Krazzy Knight2:18 PM\n",
      "yes\n",
      "Zareen Fatima2:18 PM\n",
      "hes\n",
      "Syed Ammad Waheed2:22 PM\n",
      "4210113863591 Syed Ammad Waheed Hassani\n",
      "taimoor qureshi2:22 PM\n",
      "4240179641627\n",
      "Ad Khan2:22 PM\n",
      "Muhammad Adnan Khan 4220113823383\n",
      "\n",
      "Muhammad Adnan Khan 4220113823383\n",
      "Muhammad Adnan Khan 4220113823383\n",
      "Tatheer Fatima2:23 PM\n",
      "4210124609792\n",
      "\n"
     ]
    }
   ],
   "source": [
    "x = \"\"\"\n",
    "Krazzy Knight2:18 PM\n",
    "yes\n",
    "Zareen Fatima2:18 PM\n",
    "hes\n",
    "Syed Ammad Waheed2:22 PM\n",
    "4210113863591 Syed Ammad Waheed Hassani\n",
    "taimoor qureshi2:22 PM\n",
    "4240179641627\n",
    "Ad Khan2:22 PM\n",
    "Muhammad Adnan Khan 42201-1382338-3\n",
    "\n",
    "Muhammad Adnan Khan 42201-1382338-3\n",
    "Muhammad Adnan Khan 42201-1382338-3\n",
    "Tatheer Fatima2:23 PM\n",
    "4210124609792\n",
    "\"\"\".replace(\"-\",\"\")\n",
    "print(x)"
   ]
  },
  {
   "cell_type": "code",
   "execution_count": 25,
   "id": "3d64f8be",
   "metadata": {},
   "outputs": [],
   "source": [
    "import re"
   ]
  },
  {
   "cell_type": "code",
   "execution_count": 26,
   "id": "71527ea8",
   "metadata": {},
   "outputs": [
    {
     "data": {
      "text/plain": [
       "['4210113863591',\n",
       " '4240179641627',\n",
       " '4220113823383',\n",
       " '4220113823383',\n",
       " '4220113823383',\n",
       " '4210124609792']"
      ]
     },
     "execution_count": 26,
     "metadata": {},
     "output_type": "execute_result"
    }
   ],
   "source": [
    "re.findall(r'[0-9]{13}',x)"
   ]
  },
  {
   "cell_type": "code",
   "execution_count": 27,
   "id": "7e927ed4",
   "metadata": {},
   "outputs": [
    {
     "data": {
      "text/plain": [
       "{'4210113863591', '4210124609792', '4220113823383', '4240179641627'}"
      ]
     },
     "execution_count": 27,
     "metadata": {},
     "output_type": "execute_result"
    }
   ],
   "source": [
    "set(re.findall(r'[0-9]{13}',x))"
   ]
  },
  {
   "cell_type": "code",
   "execution_count": 29,
   "id": "b958d1fa",
   "metadata": {},
   "outputs": [
    {
     "data": {
      "text/plain": [
       "['__add__',\n",
       " '__class__',\n",
       " '__contains__',\n",
       " '__delattr__',\n",
       " '__dir__',\n",
       " '__doc__',\n",
       " '__eq__',\n",
       " '__format__',\n",
       " '__ge__',\n",
       " '__getattribute__',\n",
       " '__getitem__',\n",
       " '__getnewargs__',\n",
       " '__gt__',\n",
       " '__hash__',\n",
       " '__init__',\n",
       " '__init_subclass__',\n",
       " '__iter__',\n",
       " '__le__',\n",
       " '__len__',\n",
       " '__lt__',\n",
       " '__mod__',\n",
       " '__mul__',\n",
       " '__ne__',\n",
       " '__new__',\n",
       " '__reduce__',\n",
       " '__reduce_ex__',\n",
       " '__repr__',\n",
       " '__rmod__',\n",
       " '__rmul__',\n",
       " '__setattr__',\n",
       " '__sizeof__',\n",
       " '__str__',\n",
       " '__subclasshook__',\n",
       " 'capitalize',\n",
       " 'casefold',\n",
       " 'center',\n",
       " 'count',\n",
       " 'encode',\n",
       " 'endswith',\n",
       " 'expandtabs',\n",
       " 'find',\n",
       " 'format',\n",
       " 'format_map',\n",
       " 'index',\n",
       " 'isalnum',\n",
       " 'isalpha',\n",
       " 'isascii',\n",
       " 'isdecimal',\n",
       " 'isdigit',\n",
       " 'isidentifier',\n",
       " 'islower',\n",
       " 'isnumeric',\n",
       " 'isprintable',\n",
       " 'isspace',\n",
       " 'istitle',\n",
       " 'isupper',\n",
       " 'join',\n",
       " 'ljust',\n",
       " 'lower',\n",
       " 'lstrip',\n",
       " 'maketrans',\n",
       " 'partition',\n",
       " 'replace',\n",
       " 'rfind',\n",
       " 'rindex',\n",
       " 'rjust',\n",
       " 'rpartition',\n",
       " 'rsplit',\n",
       " 'rstrip',\n",
       " 'split',\n",
       " 'splitlines',\n",
       " 'startswith',\n",
       " 'strip',\n",
       " 'swapcase',\n",
       " 'title',\n",
       " 'translate',\n",
       " 'upper',\n",
       " 'zfill']"
      ]
     },
     "execution_count": 29,
     "metadata": {},
     "output_type": "execute_result"
    }
   ],
   "source": [
    "a = \"pakistan zinda bad\"\n",
    "dir(a)"
   ]
  },
  {
   "cell_type": "code",
   "execution_count": 31,
   "id": "ebc22178",
   "metadata": {},
   "outputs": [],
   "source": [
    "str.zfill?"
   ]
  },
  {
   "cell_type": "markdown",
   "id": "4d0cbc7b",
   "metadata": {},
   "source": [
    "# list"
   ]
  },
  {
   "cell_type": "code",
   "execution_count": 32,
   "id": "a9133f72",
   "metadata": {},
   "outputs": [
    {
     "name": "stdout",
     "output_type": "stream",
     "text": [
      "<class 'list'>\n",
      "[1, 'ab', 'aa', [1, 2, 3], {1, 2}, {'a': 'pakistan'}]\n"
     ]
    }
   ],
   "source": [
    "data = [1,'ab',('aa'),[1,2,3],{1,2},{'a':'pakistan'}]\n",
    "print(type(data))\n",
    "print(data)"
   ]
  },
  {
   "cell_type": "code",
   "execution_count": 33,
   "id": "9e4fb1b9",
   "metadata": {},
   "outputs": [
    {
     "name": "stdout",
     "output_type": "stream",
     "text": [
      "b b\n"
     ]
    }
   ],
   "source": [
    "# ->   0   1   2   3\n",
    "l1 = ['a','b','c','d']\n",
    "# <-1  -4  -3  -2  -1\n",
    "print(l1[1], l1[-3])"
   ]
  },
  {
   "cell_type": "code",
   "execution_count": 34,
   "id": "7d24bc9e",
   "metadata": {},
   "outputs": [
    {
     "name": "stdout",
     "output_type": "stream",
     "text": [
      "a\n",
      "b\n",
      "c\n",
      "d\n"
     ]
    }
   ],
   "source": [
    "l1 = ['a','b','c','d']\n",
    "for i in l1:\n",
    "    print(i)"
   ]
  },
  {
   "cell_type": "code",
   "execution_count": 38,
   "id": "5e40ba4f",
   "metadata": {},
   "outputs": [
    {
     "data": {
      "text/plain": [
       "['a_pak', 'b_pak', 'c_pak', 'd_pak']"
      ]
     },
     "execution_count": 38,
     "metadata": {},
     "output_type": "execute_result"
    }
   ],
   "source": [
    "[i+'_pak' for i in l1]"
   ]
  },
  {
   "cell_type": "code",
   "execution_count": 36,
   "id": "7adb03c8",
   "metadata": {},
   "outputs": [
    {
     "data": {
      "text/plain": [
       "['A',\n",
       " 'B',\n",
       " 'C',\n",
       " 'D',\n",
       " 'E',\n",
       " 'F',\n",
       " 'G',\n",
       " 'H',\n",
       " 'I',\n",
       " 'J',\n",
       " 'K',\n",
       " 'L',\n",
       " 'M',\n",
       " 'N',\n",
       " 'O',\n",
       " 'P',\n",
       " 'Q',\n",
       " 'R',\n",
       " 'S',\n",
       " 'T',\n",
       " 'U',\n",
       " 'V',\n",
       " 'W',\n",
       " 'X',\n",
       " 'Y',\n",
       " 'Z']"
      ]
     },
     "execution_count": 36,
     "metadata": {},
     "output_type": "execute_result"
    }
   ],
   "source": [
    "l = [chr(i) for i in range(65,91)]\n",
    "l"
   ]
  },
  {
   "cell_type": "code",
   "execution_count": 39,
   "id": "c289855e",
   "metadata": {},
   "outputs": [
    {
     "data": {
      "text/plain": [
       "['A',\n",
       " 'B',\n",
       " 'C',\n",
       " 'D',\n",
       " 'E',\n",
       " 'F',\n",
       " 'G',\n",
       " 'H',\n",
       " 'I',\n",
       " 'J',\n",
       " 'K',\n",
       " 'L',\n",
       " 'M',\n",
       " 'N',\n",
       " 'O',\n",
       " 'P',\n",
       " 'Q',\n",
       " 'R',\n",
       " 'S',\n",
       " 'T',\n",
       " 'U',\n",
       " 'V',\n",
       " 'W',\n",
       " 'X',\n",
       " 'Y',\n",
       " 'Z']"
      ]
     },
     "execution_count": 39,
     "metadata": {},
     "output_type": "execute_result"
    }
   ],
   "source": [
    "l1 = list('ABCDEFGHIJKLMNOPQRSTUVWXYZ')\n",
    "l1"
   ]
  },
  {
   "cell_type": "code",
   "execution_count": 47,
   "id": "d5e866d1",
   "metadata": {},
   "outputs": [
    {
     "name": "stdout",
     "output_type": "stream",
     "text": [
      "['C', 'D', 'E']\n",
      "['C', 'D', 'E']\n"
     ]
    }
   ],
   "source": [
    "l1 = list('ABCDEFGH')\n",
    "#list[start:end:step]\n",
    "#start = include\n",
    "#end = exclude end-1\n",
    "#step = sequance for next move\n",
    "print(l1[2:5])#left to right move\n",
    "print(l1[-6:-3])"
   ]
  },
  {
   "cell_type": "code",
   "execution_count": 48,
   "id": "82e65f38",
   "metadata": {},
   "outputs": [
    {
     "name": "stdout",
     "output_type": "stream",
     "text": [
      "['A', 'C', 'E', 'G']\n"
     ]
    }
   ],
   "source": [
    "l1 = list('ABCDEFGH')\n",
    "print(l1[::2])"
   ]
  },
  {
   "cell_type": "code",
   "execution_count": 52,
   "id": "d44a8bd8",
   "metadata": {},
   "outputs": [
    {
     "data": {
      "text/plain": [
       "[2, 4, 6, 8, 10, 12, 14, 16, 18, 20]"
      ]
     },
     "execution_count": 52,
     "metadata": {},
     "output_type": "execute_result"
    }
   ],
   "source": [
    "list(range(2,21,2))"
   ]
  },
  {
   "cell_type": "code",
   "execution_count": 55,
   "id": "60d1cb83",
   "metadata": {},
   "outputs": [
    {
     "data": {
      "text/plain": [
       "[10, 9, 8, 7, 6, 5, 4, 3, 2, 1]"
      ]
     },
     "execution_count": 55,
     "metadata": {},
     "output_type": "execute_result"
    }
   ],
   "source": [
    "a = list(range(1,11))\n",
    "a[::-1]"
   ]
  },
  {
   "cell_type": "code",
   "execution_count": 59,
   "id": "4ee9c93f",
   "metadata": {},
   "outputs": [
    {
     "name": "stdout",
     "output_type": "stream",
     "text": [
      "[3, 4, 5, 6, 7, 8, 9, 10]\n",
      "[3, 4, 5, 6, 7, 8, 9, 10]\n"
     ]
    }
   ],
   "source": [
    "a = list(range(1,11))\n",
    "print(a[2:])\n",
    "print(a[2::])\n"
   ]
  },
  {
   "cell_type": "code",
   "execution_count": 60,
   "id": "f562da71",
   "metadata": {},
   "outputs": [
    {
     "name": "stdout",
     "output_type": "stream",
     "text": [
      "[1, 2, 3, 4, 5]\n",
      "[1, 2, 3, 4, 5]\n"
     ]
    }
   ],
   "source": [
    "a = list(range(1,11))\n",
    "print(a[:5])\n",
    "print(a[:5:])\n"
   ]
  },
  {
   "cell_type": "code",
   "execution_count": 58,
   "id": "164241a7",
   "metadata": {},
   "outputs": [
    {
     "name": "stdout",
     "output_type": "stream",
     "text": [
      "[1, 2, 3, 4, 5, 6, 7, 8, 9, 10]\n"
     ]
    },
    {
     "data": {
      "text/plain": [
       "[8, 7, 6, 5, 4, 3, 2, 1]"
      ]
     },
     "execution_count": 58,
     "metadata": {},
     "output_type": "execute_result"
    }
   ],
   "source": [
    "a = list(range(1,11))\n",
    "print(a)\n",
    "a[-3::-1]"
   ]
  },
  {
   "cell_type": "code",
   "execution_count": 63,
   "id": "e4e4e287",
   "metadata": {},
   "outputs": [
    {
     "data": {
      "text/plain": [
       "['2 x 1 = 2',\n",
       " '2 x 2 = 4',\n",
       " '2 x 3 = 6',\n",
       " '2 x 4 = 8',\n",
       " '2 x 5 = 10',\n",
       " '2 x 6 = 12',\n",
       " '2 x 7 = 14',\n",
       " '2 x 8 = 16',\n",
       " '2 x 9 = 18',\n",
       " '2 x 10 = 20']"
      ]
     },
     "execution_count": 63,
     "metadata": {},
     "output_type": "execute_result"
    }
   ],
   "source": [
    "a = [f\"{2} x {i} = {i*2}\" for i in list(range(1,11))]\n",
    "a"
   ]
  },
  {
   "cell_type": "code",
   "execution_count": 64,
   "id": "7713e523",
   "metadata": {},
   "outputs": [
    {
     "name": "stdout",
     "output_type": "stream",
     "text": [
      "1\n",
      "[77, 'b', 'c']\n"
     ]
    }
   ],
   "source": [
    "l1 = ['1','b','c']\n",
    "print(l1[0])\n",
    "l1[0] = 77\n",
    "print(l1)"
   ]
  },
  {
   "cell_type": "code",
   "execution_count": 65,
   "id": "d9728dd4",
   "metadata": {},
   "outputs": [
    {
     "name": "stdout",
     "output_type": "stream",
     "text": [
      "139858569480624\n",
      "139858569480624\n"
     ]
    }
   ],
   "source": [
    "c = 'pakistan'\n",
    "f = 'pakistan'\n",
    "print(id(c))\n",
    "print(id(f))"
   ]
  },
  {
   "cell_type": "code",
   "execution_count": 66,
   "id": "20abd3a1",
   "metadata": {},
   "outputs": [
    {
     "name": "stdout",
     "output_type": "stream",
     "text": [
      "[20, 2, 3]\n",
      "[20, 2, 3]\n"
     ]
    }
   ],
   "source": [
    "a = [1,2,3]\n",
    "b = a\n",
    "b[0]=20\n",
    "print(a)\n",
    "print(b)"
   ]
  },
  {
   "cell_type": "code",
   "execution_count": 67,
   "id": "80923a68",
   "metadata": {},
   "outputs": [
    {
     "name": "stdout",
     "output_type": "stream",
     "text": [
      "[1, 2, 3]\n",
      "[20, 2, 3]\n"
     ]
    }
   ],
   "source": [
    "a = [1,2,3]\n",
    "b = a.copy()\n",
    "b[0]=20\n",
    "print(a)\n",
    "print(b)"
   ]
  },
  {
   "cell_type": "code",
   "execution_count": 68,
   "id": "bacf8076",
   "metadata": {},
   "outputs": [
    {
     "name": "stdout",
     "output_type": "stream",
     "text": [
      "[1, 2, 3]\n",
      "[20, 2, 3]\n"
     ]
    }
   ],
   "source": [
    "a = [1,2,3]\n",
    "b = a[::]\n",
    "b[0]=20\n",
    "print(a)\n",
    "print(b)"
   ]
  },
  {
   "cell_type": "raw",
   "id": "c0b53c47",
   "metadata": {},
   "source": [
    "if logic:\n",
    "    true_block\n",
    "else:\n",
    "    false_block"
   ]
  },
  {
   "cell_type": "raw",
   "id": "1978ff2c",
   "metadata": {},
   "source": [
    "true_block if logic else false_block"
   ]
  },
  {
   "cell_type": "code",
   "execution_count": 72,
   "id": "536e3724",
   "metadata": {},
   "outputs": [
    {
     "name": "stdout",
     "output_type": "stream",
     "text": [
      "Valid user\n",
      "......\n"
     ]
    }
   ],
   "source": [
    "user = 'admin'\n",
    "password = 'admin'\n",
    "\n",
    "if user == 'admin' and password=='admin':\n",
    "    print(\"Valid user\")\n",
    "    print(\"......\")\n",
    "else:\n",
    "    print(\"Not valid user\")"
   ]
  },
  {
   "cell_type": "code",
   "execution_count": 77,
   "id": "8f2d6e79",
   "metadata": {},
   "outputs": [
    {
     "data": {
      "text/plain": [
       "'Valid user'"
      ]
     },
     "execution_count": 77,
     "metadata": {},
     "output_type": "execute_result"
    }
   ],
   "source": [
    "user = 'admin'\n",
    "password = 'admin'\n",
    "\n",
    "logic_check = \"Valid user\" if user == 'admin' and password=='admin' else \"Not valid user\"\n",
    "logic_check\n",
    "logic_check\n",
    "logic_check\n",
    "logic_check# return only last line of cell"
   ]
  },
  {
   "cell_type": "code",
   "execution_count": 78,
   "id": "5b81d3e7",
   "metadata": {},
   "outputs": [
    {
     "name": "stdout",
     "output_type": "stream",
     "text": [
      "1\n",
      "2\n",
      "3\n"
     ]
    }
   ],
   "source": [
    "a,b,c = 1, 2, 3\n",
    "print(a)\n",
    "print(b)\n",
    "print(c)"
   ]
  },
  {
   "cell_type": "code",
   "execution_count": 79,
   "id": "e577b39e",
   "metadata": {},
   "outputs": [
    {
     "name": "stdout",
     "output_type": "stream",
     "text": [
      "1\n",
      "2\n",
      "3\n"
     ]
    }
   ],
   "source": [
    "a,b,c = [1,2,3]\n",
    "print(a)\n",
    "print(b)\n",
    "print(c)"
   ]
  },
  {
   "cell_type": "code",
   "execution_count": 81,
   "id": "7be3638b",
   "metadata": {},
   "outputs": [
    {
     "name": "stdout",
     "output_type": "stream",
     "text": [
      "1 2 3\n",
      "1 2 3\n"
     ]
    }
   ],
   "source": [
    "l1 = [1,2,3]\n",
    "print(l1[0],l1[1],l1[2])\n",
    "print(*l1)"
   ]
  },
  {
   "cell_type": "code",
   "execution_count": 84,
   "id": "2e1b60e2",
   "metadata": {},
   "outputs": [
    {
     "data": {
      "text/plain": [
       "['valid user', 'not valid user']"
      ]
     },
     "execution_count": 84,
     "metadata": {},
     "output_type": "execute_result"
    }
   ],
   "source": [
    "database = [('admin','admin'),\n",
    "           ('qasim','qasim')]\n",
    "\n",
    "['valid user' if i[0]=='admin' and i[1]=='admin' else 'not valid user' for i  in database]"
   ]
  },
  {
   "cell_type": "code",
   "execution_count": 87,
   "id": "15da0957",
   "metadata": {},
   "outputs": [
    {
     "name": "stdout",
     "output_type": "stream",
     "text": [
      "['a', 'b', 'c']\n",
      "['a', 'b', 'c', 'x']\n",
      "['a', 'b', 'PK', 'c', 'x']\n"
     ]
    }
   ],
   "source": [
    "l1 = list('abc')\n",
    "print(l1)\n",
    "l1.append('x')\n",
    "print(l1)\n",
    "l1.insert(2,\"PK\")\n",
    "print(l1)"
   ]
  },
  {
   "cell_type": "code",
   "execution_count": 88,
   "id": "8d49e602",
   "metadata": {},
   "outputs": [
    {
     "name": "stdout",
     "output_type": "stream",
     "text": [
      "['__add__', '__class__', '__contains__', '__delattr__', '__delitem__', '__dir__', '__doc__', '__eq__', '__format__', '__ge__', '__getattribute__', '__getitem__', '__gt__', '__hash__', '__iadd__', '__imul__', '__init__', '__init_subclass__', '__iter__', '__le__', '__len__', '__lt__', '__mul__', '__ne__', '__new__', '__reduce__', '__reduce_ex__', '__repr__', '__reversed__', '__rmul__', '__setattr__', '__setitem__', '__sizeof__', '__str__', '__subclasshook__', 'append', 'clear', 'copy', 'count', 'extend', 'index', 'insert', 'pop', 'remove', 'reverse', 'sort']\n"
     ]
    }
   ],
   "source": [
    "print(dir(l1))"
   ]
  },
  {
   "cell_type": "code",
   "execution_count": 89,
   "id": "4906e8e6",
   "metadata": {},
   "outputs": [
    {
     "data": {
      "text/plain": [
       "[1, 2, 3, 4, 5, 6]"
      ]
     },
     "execution_count": 89,
     "metadata": {},
     "output_type": "execute_result"
    }
   ],
   "source": [
    "[1,2,3] + [4,5,6]"
   ]
  },
  {
   "cell_type": "code",
   "execution_count": 90,
   "id": "481380ea",
   "metadata": {},
   "outputs": [
    {
     "name": "stdout",
     "output_type": "stream",
     "text": [
      "[1, 2, 3, 6, 4, 5]\n"
     ]
    }
   ],
   "source": [
    "l1 = [1,2,3]\n",
    "l2 = [6,4,5]\n",
    "print(l1+l2)"
   ]
  },
  {
   "cell_type": "code",
   "execution_count": 91,
   "id": "5bb4ea2f",
   "metadata": {},
   "outputs": [
    {
     "name": "stdout",
     "output_type": "stream",
     "text": [
      "[1, 2, 3, [6, 4, 5]]\n"
     ]
    }
   ],
   "source": [
    "l1 = [1,2,3]\n",
    "l2 = [6,4,5]\n",
    "l1.append(l2)\n",
    "print(l1)"
   ]
  },
  {
   "cell_type": "code",
   "execution_count": 92,
   "id": "db1e93e6",
   "metadata": {},
   "outputs": [
    {
     "name": "stdout",
     "output_type": "stream",
     "text": [
      "[1, 2, 3, 6, 4, 5]\n"
     ]
    }
   ],
   "source": [
    "l1 = [1,2,3]\n",
    "l2 = [6,4,5]\n",
    "l1.extend(l2)\n",
    "print(l1)"
   ]
  },
  {
   "cell_type": "code",
   "execution_count": 93,
   "id": "e1bc5851",
   "metadata": {},
   "outputs": [
    {
     "name": "stdout",
     "output_type": "stream",
     "text": [
      "[2, 3, 6, 4, 5]\n"
     ]
    }
   ],
   "source": [
    "l1 = [1, 2, 3, 6, 4, 5]\n",
    "del l1[0]\n",
    "print(l1)"
   ]
  },
  {
   "cell_type": "code",
   "execution_count": 94,
   "id": "c4884cc5",
   "metadata": {},
   "outputs": [
    {
     "name": "stdout",
     "output_type": "stream",
     "text": [
      "[2, 3, 6, 4, 5]\n",
      "Deleted value 1\n"
     ]
    }
   ],
   "source": [
    "l1 = [1, 2, 3, 6, 4, 5]\n",
    "a = l1.pop(0)\n",
    "print(l1)\n",
    "print(\"Deleted value\",a)"
   ]
  },
  {
   "cell_type": "code",
   "execution_count": 95,
   "id": "a853c527",
   "metadata": {},
   "outputs": [
    {
     "name": "stdout",
     "output_type": "stream",
     "text": [
      "['a', 'b', 'c', 'e', 'f']\n",
      "Deleted value None\n"
     ]
    }
   ],
   "source": [
    "l1 = list('abcdef')\n",
    "a = l1.remove('d')\n",
    "print(l1)\n",
    "print(\"Deleted value\",a)"
   ]
  },
  {
   "cell_type": "code",
   "execution_count": 97,
   "id": "eb592946",
   "metadata": {},
   "outputs": [
    {
     "name": "stdout",
     "output_type": "stream",
     "text": [
      "['a', 'b', 'c', 'd', 'e', 'f']\n",
      "['f', 'e', 'd', 'c', 'b', 'a']\n"
     ]
    }
   ],
   "source": [
    "l1 = list('abcdef')\n",
    "print(l1)\n",
    "l1.reverse()\n",
    "print(l1)"
   ]
  },
  {
   "cell_type": "code",
   "execution_count": 99,
   "id": "645e78c5",
   "metadata": {},
   "outputs": [
    {
     "data": {
      "text/plain": [
       "10"
      ]
     },
     "execution_count": 99,
     "metadata": {},
     "output_type": "execute_result"
    }
   ],
   "source": [
    "def function_name(n1,n2):\n",
    "    return n1 + n2\n",
    "\n",
    "function_name(2,8)"
   ]
  },
  {
   "cell_type": "code",
   "execution_count": 100,
   "id": "cda5194d",
   "metadata": {},
   "outputs": [
    {
     "data": {
      "text/plain": [
       "16"
      ]
     },
     "execution_count": 100,
     "metadata": {},
     "output_type": "execute_result"
    }
   ],
   "source": [
    "a = lambda n1,n2: n1 + n2\n",
    "a(7,9)"
   ]
  },
  {
   "cell_type": "code",
   "execution_count": 103,
   "id": "544a27f4",
   "metadata": {},
   "outputs": [
    {
     "data": {
      "text/plain": [
       "[[1, 'a', 3], [3, 'b', 5], [2, 'c', 4]]"
      ]
     },
     "execution_count": 103,
     "metadata": {},
     "output_type": "execute_result"
    }
   ],
   "source": [
    "data = [[1,'a',3],\n",
    "       [3,'b',5],\n",
    "       [2,'c',4]]\n",
    "data"
   ]
  },
  {
   "cell_type": "code",
   "execution_count": 104,
   "id": "24b2aa75",
   "metadata": {},
   "outputs": [
    {
     "data": {
      "text/plain": [
       "[[1, 'a', 3], [2, 'c', 4], [3, 'b', 5]]"
      ]
     },
     "execution_count": 104,
     "metadata": {},
     "output_type": "execute_result"
    }
   ],
   "source": [
    "sorted(data)"
   ]
  },
  {
   "cell_type": "code",
   "execution_count": 106,
   "id": "ce7276c9",
   "metadata": {},
   "outputs": [
    {
     "data": {
      "text/plain": [
       "[[1, 'a', 3], [3, 'b', 5], [2, 'c', 4]]"
      ]
     },
     "execution_count": 106,
     "metadata": {},
     "output_type": "execute_result"
    }
   ],
   "source": [
    "sorted(data, key=lambda x:x[1])"
   ]
  },
  {
   "cell_type": "code",
   "execution_count": 107,
   "id": "65da7615",
   "metadata": {},
   "outputs": [
    {
     "data": {
      "text/plain": [
       "[[1, 'a', 3], [2, 'c', 4], [3, 'b', 5]]"
      ]
     },
     "execution_count": 107,
     "metadata": {},
     "output_type": "execute_result"
    }
   ],
   "source": [
    "sorted(data, key=lambda x:x[-1])"
   ]
  },
  {
   "cell_type": "code",
   "execution_count": 108,
   "id": "d1a7ae98",
   "metadata": {},
   "outputs": [
    {
     "data": {
      "text/plain": [
       "[[3, 'b', 5], [2, 'c', 4], [1, 'a', 3]]"
      ]
     },
     "execution_count": 108,
     "metadata": {},
     "output_type": "execute_result"
    }
   ],
   "source": [
    "sorted(data, key=lambda x:x[-1], reverse=True)"
   ]
  },
  {
   "cell_type": "code",
   "execution_count": 109,
   "id": "1e05fc90",
   "metadata": {},
   "outputs": [
    {
     "data": {
      "text/plain": [
       "[[1, 'a', 3], [3, 'b', 5], [2, 'c', 4]]"
      ]
     },
     "execution_count": 109,
     "metadata": {},
     "output_type": "execute_result"
    }
   ],
   "source": [
    "data"
   ]
  },
  {
   "cell_type": "markdown",
   "id": "5576657c",
   "metadata": {},
   "source": [
    "# Tuple"
   ]
  },
  {
   "cell_type": "code",
   "execution_count": 110,
   "id": "7a404b2e",
   "metadata": {},
   "outputs": [
    {
     "ename": "TypeError",
     "evalue": "'tuple' object does not support item assignment",
     "output_type": "error",
     "traceback": [
      "\u001b[0;31m----------------------------------------------------------------------\u001b[0m",
      "\u001b[0;31mTypeError\u001b[0m                            Traceback (most recent call last)",
      "\u001b[0;32m<ipython-input-110-fe2c51c5ad52>\u001b[0m in \u001b[0;36m<module>\u001b[0;34m\u001b[0m\n\u001b[1;32m      1\u001b[0m \u001b[0ma\u001b[0m \u001b[0;34m=\u001b[0m \u001b[0;34m(\u001b[0m\u001b[0;36m1\u001b[0m\u001b[0;34m,\u001b[0m\u001b[0;36m2\u001b[0m\u001b[0;34m,\u001b[0m\u001b[0;36m3\u001b[0m\u001b[0;34m)\u001b[0m\u001b[0;34m\u001b[0m\u001b[0;34m\u001b[0m\u001b[0m\n\u001b[0;32m----> 2\u001b[0;31m \u001b[0ma\u001b[0m\u001b[0;34m[\u001b[0m\u001b[0;36m0\u001b[0m\u001b[0;34m]\u001b[0m \u001b[0;34m=\u001b[0m \u001b[0;36m7\u001b[0m\u001b[0;34m\u001b[0m\u001b[0;34m\u001b[0m\u001b[0m\n\u001b[0m",
      "\u001b[0;31mTypeError\u001b[0m: 'tuple' object does not support item assignment"
     ]
    }
   ],
   "source": [
    "a = (1,2,3)\n",
    "a[0] = 7\n"
   ]
  },
  {
   "cell_type": "markdown",
   "id": "04fc8e6c",
   "metadata": {},
   "source": [
    "# Dictionary"
   ]
  },
  {
   "cell_type": "code",
   "execution_count": 111,
   "id": "fbf3a8b5",
   "metadata": {},
   "outputs": [
    {
     "data": {
      "text/plain": [
       "{'name': ['qasim', 'Asif'], 'fname': ['Aslam', 'Abid']}"
      ]
     },
     "execution_count": 111,
     "metadata": {},
     "output_type": "execute_result"
    }
   ],
   "source": [
    "data = {\n",
    "    \"name\":['qasim','Asif'],\n",
    "    'fname':['Aslam','Abid']\n",
    "}\n",
    "data"
   ]
  },
  {
   "cell_type": "code",
   "execution_count": 112,
   "id": "cd970a3f",
   "metadata": {},
   "outputs": [
    {
     "data": {
      "text/plain": [
       "['qasim', 'Asif']"
      ]
     },
     "execution_count": 112,
     "metadata": {},
     "output_type": "execute_result"
    }
   ],
   "source": [
    "data['name']"
   ]
  },
  {
   "cell_type": "code",
   "execution_count": 113,
   "id": "9abaaaf1",
   "metadata": {},
   "outputs": [
    {
     "name": "stdout",
     "output_type": "stream",
     "text": [
      "(1, 'a')\n",
      "(2, 'b')\n",
      "(3, 'c')\n"
     ]
    }
   ],
   "source": [
    "l = [(1,'a'),(2,'b'),(3,'c')]\n",
    "for i in l:\n",
    "    print(i)"
   ]
  },
  {
   "cell_type": "code",
   "execution_count": 114,
   "id": "57b19402",
   "metadata": {},
   "outputs": [
    {
     "name": "stdout",
     "output_type": "stream",
     "text": [
      "1\n",
      "2\n",
      "3\n"
     ]
    }
   ],
   "source": [
    "l = [(1,'a'),(2,'b'),(3,'c')]\n",
    "for n,_ in l:\n",
    "    print(n)"
   ]
  },
  {
   "cell_type": "code",
   "execution_count": 115,
   "id": "8455e91b",
   "metadata": {},
   "outputs": [
    {
     "name": "stdout",
     "output_type": "stream",
     "text": [
      "a\n",
      "b\n",
      "c\n"
     ]
    }
   ],
   "source": [
    "l = [(1,'a'),(2,'b'),(3,'c')]\n",
    "for _,c in l:\n",
    "    print(c)"
   ]
  },
  {
   "cell_type": "code",
   "execution_count": 116,
   "id": "b996f969",
   "metadata": {},
   "outputs": [
    {
     "data": {
      "text/plain": [
       "{'name': ['qasim', 'Asif'], 'fname': ['Aslam', 'Abid']}"
      ]
     },
     "execution_count": 116,
     "metadata": {},
     "output_type": "execute_result"
    }
   ],
   "source": [
    "data"
   ]
  },
  {
   "cell_type": "code",
   "execution_count": 117,
   "id": "51736b6d",
   "metadata": {},
   "outputs": [
    {
     "ename": "KeyError",
     "evalue": "'class'",
     "output_type": "error",
     "traceback": [
      "\u001b[0;31m----------------------------------------------------------------------\u001b[0m",
      "\u001b[0;31mKeyError\u001b[0m                             Traceback (most recent call last)",
      "\u001b[0;32m<ipython-input-117-dca265d08754>\u001b[0m in \u001b[0;36m<module>\u001b[0;34m\u001b[0m\n\u001b[0;32m----> 1\u001b[0;31m \u001b[0mdata\u001b[0m\u001b[0;34m[\u001b[0m\u001b[0;34m'class'\u001b[0m\u001b[0;34m]\u001b[0m\u001b[0;34m\u001b[0m\u001b[0;34m\u001b[0m\u001b[0m\n\u001b[0m",
      "\u001b[0;31mKeyError\u001b[0m: 'class'"
     ]
    }
   ],
   "source": [
    "data['class']"
   ]
  },
  {
   "cell_type": "code",
   "execution_count": 118,
   "id": "081deb77",
   "metadata": {},
   "outputs": [],
   "source": [
    "data.get('class')"
   ]
  },
  {
   "cell_type": "code",
   "execution_count": 119,
   "id": "13a962f7",
   "metadata": {},
   "outputs": [
    {
     "data": {
      "text/plain": [
       "['qasim', 'Asif']"
      ]
     },
     "execution_count": 119,
     "metadata": {},
     "output_type": "execute_result"
    }
   ],
   "source": [
    "data.get('name')"
   ]
  },
  {
   "cell_type": "code",
   "execution_count": 122,
   "id": "d494c6db",
   "metadata": {},
   "outputs": [
    {
     "data": {
      "text/plain": [
       "'Asif'"
      ]
     },
     "execution_count": 122,
     "metadata": {},
     "output_type": "execute_result"
    }
   ],
   "source": [
    "data = {\n",
    "    \"name\":['qasim','Asif'],\n",
    "    'fname':['Aslam','Abid',{'a':'aaa'}]\n",
    "}\n",
    "data['name'][-1]"
   ]
  },
  {
   "cell_type": "code",
   "execution_count": 127,
   "id": "5a0da047",
   "metadata": {},
   "outputs": [
    {
     "data": {
      "text/plain": [
       "'aaa'"
      ]
     },
     "execution_count": 127,
     "metadata": {},
     "output_type": "execute_result"
    }
   ],
   "source": [
    "data['fname'][-1][\"a\"]"
   ]
  },
  {
   "cell_type": "code",
   "execution_count": 131,
   "id": "2606f961",
   "metadata": {},
   "outputs": [
    {
     "name": "stdout",
     "output_type": "stream",
     "text": [
      "[1, 2, 3, 4, 5, 6, 7, 8, 9, 10]\n"
     ]
    },
    {
     "data": {
      "text/plain": [
       "[3, 4, 5, 6, 7, 8, 9, 10, 11, 12]"
      ]
     },
     "execution_count": 131,
     "metadata": {},
     "output_type": "execute_result"
    }
   ],
   "source": [
    "l = list(range(1,11))\n",
    "print(l)\n",
    "list(map(lambda x:x+2,l))"
   ]
  },
  {
   "cell_type": "code",
   "execution_count": 133,
   "id": "ab4b7a14",
   "metadata": {},
   "outputs": [
    {
     "data": {
      "text/plain": [
       "[('name', 'qasim'), ('fname', 'Aslam'), ('course', 'AI')]"
      ]
     },
     "execution_count": 133,
     "metadata": {},
     "output_type": "execute_result"
    }
   ],
   "source": [
    "columns = ['name','fname','course']\n",
    "values = ['qasim','Aslam',\"AI\"]\n",
    "\n",
    "list(zip(columns,values))"
   ]
  },
  {
   "cell_type": "code",
   "execution_count": 135,
   "id": "72eb5d97",
   "metadata": {},
   "outputs": [
    {
     "data": {
      "text/plain": [
       "{'name': 'qasim', 'fname': 'Aslam', 'course': 'AI'}"
      ]
     },
     "execution_count": 135,
     "metadata": {},
     "output_type": "execute_result"
    }
   ],
   "source": [
    "{i:v for i,v in zip(columns,values)}"
   ]
  },
  {
   "cell_type": "markdown",
   "id": "77b5f054",
   "metadata": {},
   "source": [
    "# functions1"
   ]
  },
  {
   "cell_type": "code",
   "execution_count": 138,
   "id": "d1a753fa",
   "metadata": {},
   "outputs": [
    {
     "name": "stdout",
     "output_type": "stream",
     "text": [
      "a 1 b 7 c 0\n",
      "8\n",
      "a 1 b 2 c 3\n",
      "6\n"
     ]
    },
    {
     "ename": "TypeError",
     "evalue": "abc() missing 1 required positional argument: 'b'",
     "output_type": "error",
     "traceback": [
      "\u001b[0;31m----------------------------------------------------------------------\u001b[0m",
      "\u001b[0;31mTypeError\u001b[0m                            Traceback (most recent call last)",
      "\u001b[0;32m<ipython-input-138-541cf9e67d50>\u001b[0m in \u001b[0;36m<module>\u001b[0;34m\u001b[0m\n\u001b[1;32m      5\u001b[0m \u001b[0mprint\u001b[0m\u001b[0;34m(\u001b[0m\u001b[0mabc\u001b[0m\u001b[0;34m(\u001b[0m\u001b[0;36m1\u001b[0m\u001b[0;34m,\u001b[0m\u001b[0;36m7\u001b[0m\u001b[0;34m)\u001b[0m\u001b[0;34m)\u001b[0m\u001b[0;34m\u001b[0m\u001b[0;34m\u001b[0m\u001b[0m\n\u001b[1;32m      6\u001b[0m \u001b[0mprint\u001b[0m\u001b[0;34m(\u001b[0m\u001b[0mabc\u001b[0m\u001b[0;34m(\u001b[0m\u001b[0;36m1\u001b[0m\u001b[0;34m,\u001b[0m\u001b[0;36m2\u001b[0m\u001b[0;34m,\u001b[0m\u001b[0;36m3\u001b[0m\u001b[0;34m)\u001b[0m\u001b[0;34m)\u001b[0m\u001b[0;34m\u001b[0m\u001b[0;34m\u001b[0m\u001b[0m\n\u001b[0;32m----> 7\u001b[0;31m \u001b[0mprint\u001b[0m\u001b[0;34m(\u001b[0m\u001b[0mabc\u001b[0m\u001b[0;34m(\u001b[0m\u001b[0;36m1\u001b[0m\u001b[0;34m)\u001b[0m\u001b[0;34m)\u001b[0m\u001b[0;34m\u001b[0m\u001b[0;34m\u001b[0m\u001b[0m\n\u001b[0m",
      "\u001b[0;31mTypeError\u001b[0m: abc() missing 1 required positional argument: 'b'"
     ]
    }
   ],
   "source": [
    "def abc(a,b,c=0):\n",
    "    print(\"a\",a,\"b\",b,\"c\",c)\n",
    "    return a + b + c\n",
    "\n",
    "print(abc(1,7))\n",
    "print(abc(1,2,3))\n",
    "print(abc(1))"
   ]
  },
  {
   "cell_type": "code",
   "execution_count": 139,
   "id": "7d502c25",
   "metadata": {},
   "outputs": [
    {
     "name": "stdout",
     "output_type": "stream",
     "text": [
      "(1, 23, 3, 5, 56, 2)\n"
     ]
    },
    {
     "data": {
      "text/plain": [
       "90"
      ]
     },
     "execution_count": 139,
     "metadata": {},
     "output_type": "execute_result"
    }
   ],
   "source": [
    "def my_sum(*n):\n",
    "    print(n)\n",
    "    return sum(n)\n",
    "\n",
    "my_sum(1,23,3,5,56,2)"
   ]
  },
  {
   "cell_type": "code",
   "execution_count": 140,
   "id": "7770104b",
   "metadata": {},
   "outputs": [
    {
     "name": "stdout",
     "output_type": "stream",
     "text": [
      "1 23 (3, 5, 56, 2)\n"
     ]
    },
    {
     "data": {
      "text/plain": [
       "66"
      ]
     },
     "execution_count": 140,
     "metadata": {},
     "output_type": "execute_result"
    }
   ],
   "source": [
    "def my_sum(n1,n2,*n):\n",
    "    print(n1,n2,n)\n",
    "    return sum(n)\n",
    "\n",
    "my_sum(1,23,3,5,56,2)"
   ]
  },
  {
   "cell_type": "code",
   "execution_count": 141,
   "id": "28ded6ef",
   "metadata": {},
   "outputs": [
    {
     "name": "stdout",
     "output_type": "stream",
     "text": [
      "1 23 3 (5, 56, 2)\n"
     ]
    },
    {
     "data": {
      "text/plain": [
       "63"
      ]
     },
     "execution_count": 141,
     "metadata": {},
     "output_type": "execute_result"
    }
   ],
   "source": [
    "def my_sum(n1,n2,n3=0,*n):\n",
    "    print(n1,n2,n3,n)\n",
    "    return sum(n)\n",
    "\n",
    "my_sum(1,23,3,5,56,2)"
   ]
  },
  {
   "cell_type": "code",
   "execution_count": 143,
   "id": "541a0247",
   "metadata": {},
   "outputs": [
    {
     "name": "stdout",
     "output_type": "stream",
     "text": [
      "a 1 b 2 c 3\n"
     ]
    },
    {
     "data": {
      "text/plain": [
       "6"
      ]
     },
     "execution_count": 143,
     "metadata": {},
     "output_type": "execute_result"
    }
   ],
   "source": [
    "def myfn(a,b,c):\n",
    "    print(\"a\",a,\"b\",b,\"c\",c)\n",
    "    return a + b + c\n",
    "myfn(1,2,3)"
   ]
  },
  {
   "cell_type": "code",
   "execution_count": 144,
   "id": "4a2a373b",
   "metadata": {},
   "outputs": [
    {
     "name": "stdout",
     "output_type": "stream",
     "text": [
      "a 2 b 3 c 1\n"
     ]
    },
    {
     "data": {
      "text/plain": [
       "6"
      ]
     },
     "execution_count": 144,
     "metadata": {},
     "output_type": "execute_result"
    }
   ],
   "source": [
    "def myfn(a,b,c):\n",
    "    print(\"a\",a,\"b\",b,\"c\",c)\n",
    "    return a + b + c\n",
    "myfn(c=1,a=2,b=3)"
   ]
  },
  {
   "cell_type": "code",
   "execution_count": 146,
   "id": "4f3d07b6",
   "metadata": {},
   "outputs": [
    {
     "name": "stdout",
     "output_type": "stream",
     "text": [
      "a 1 b 2 c 3\n"
     ]
    },
    {
     "data": {
      "text/plain": [
       "6"
      ]
     },
     "execution_count": 146,
     "metadata": {},
     "output_type": "execute_result"
    }
   ],
   "source": [
    "myfn(*[1,2,3])"
   ]
  },
  {
   "cell_type": "code",
   "execution_count": 147,
   "id": "4b3811f0",
   "metadata": {},
   "outputs": [
    {
     "name": "stdout",
     "output_type": "stream",
     "text": [
      "a 1 b 2 c {'name': 'qasim', 'fname': 'Aslam', 'course': 'AI'}\n"
     ]
    }
   ],
   "source": [
    "def myfn1(a,b, **args):\n",
    "    print(\"a\",a,\"b\",b,\"c\",args)\n",
    "    \n",
    "myfn1(1,2,name='qasim',fname='Aslam',course='AI')\n",
    "    "
   ]
  },
  {
   "cell_type": "code",
   "execution_count": 148,
   "id": "7ce87cdf",
   "metadata": {},
   "outputs": [
    {
     "name": "stdout",
     "output_type": "stream",
     "text": [
      "a 7 b 7 c {'name': 'qasim'}\n"
     ]
    }
   ],
   "source": [
    "data = {\"a\":7,\"b\":7,'name':'qasim'}\n",
    "\n",
    "myfn1(**data)"
   ]
  },
  {
   "cell_type": "markdown",
   "id": "3483c67e",
   "metadata": {},
   "source": [
    "# Generator function"
   ]
  },
  {
   "cell_type": "code",
   "execution_count": 151,
   "id": "22777596",
   "metadata": {},
   "outputs": [
    {
     "name": "stdout",
     "output_type": "stream",
     "text": [
      "<generator object mygen at 0x7f3354c2d450>\n",
      "1\n",
      "2\n",
      "3\n",
      "[4, 5, 6, 7, 8, 9, 10]\n"
     ]
    }
   ],
   "source": [
    "def mygen(s,e):\n",
    "    for i in range(s,e+1):\n",
    "        yield i\n",
    "        \n",
    "a = mygen(1,10)\n",
    "print(a)\n",
    "print(next(a))\n",
    "print(next(a))\n",
    "print(next(a))\n",
    "print(list(a))"
   ]
  },
  {
   "cell_type": "markdown",
   "id": "1931d799",
   "metadata": {},
   "source": [
    "# Recursive function"
   ]
  },
  {
   "cell_type": "code",
   "execution_count": 154,
   "id": "d7a93853",
   "metadata": {},
   "outputs": [
    {
     "name": "stdout",
     "output_type": "stream",
     "text": [
      "5\n",
      "4\n",
      "3\n",
      "2\n"
     ]
    },
    {
     "data": {
      "text/plain": [
       "15"
      ]
     },
     "execution_count": 154,
     "metadata": {},
     "output_type": "execute_result"
    }
   ],
   "source": [
    "def my_recursive(x):\n",
    "    if x == 1:\n",
    "        return x\n",
    "    print(x)\n",
    "    return my_recursive(x-1)+x # 5+4+3+2+1\n",
    "my_recursive(5)"
   ]
  },
  {
   "cell_type": "markdown",
   "id": "5a2a81a6",
   "metadata": {},
   "source": [
    "# Numpy"
   ]
  },
  {
   "cell_type": "code",
   "execution_count": 155,
   "id": "3e3da2d6",
   "metadata": {},
   "outputs": [
    {
     "data": {
      "text/plain": [
       "[3, 4, 5, 6, 7]"
      ]
     },
     "execution_count": 155,
     "metadata": {},
     "output_type": "execute_result"
    }
   ],
   "source": [
    "l1 = [1,2,3,4,5]\n",
    "[i+2 for i in l1]"
   ]
  },
  {
   "cell_type": "code",
   "execution_count": 156,
   "id": "755de6fe",
   "metadata": {},
   "outputs": [
    {
     "ename": "TypeError",
     "evalue": "can only concatenate list (not \"int\") to list",
     "output_type": "error",
     "traceback": [
      "\u001b[0;31m----------------------------------------------------------------------\u001b[0m",
      "\u001b[0;31mTypeError\u001b[0m                            Traceback (most recent call last)",
      "\u001b[0;32m<ipython-input-156-eb8f1067bc89>\u001b[0m in \u001b[0;36m<module>\u001b[0;34m\u001b[0m\n\u001b[0;32m----> 1\u001b[0;31m \u001b[0ml1\u001b[0m \u001b[0;34m+\u001b[0m \u001b[0;36m2\u001b[0m\u001b[0;34m\u001b[0m\u001b[0;34m\u001b[0m\u001b[0m\n\u001b[0m",
      "\u001b[0;31mTypeError\u001b[0m: can only concatenate list (not \"int\") to list"
     ]
    }
   ],
   "source": [
    "l1 + 2"
   ]
  },
  {
   "cell_type": "code",
   "execution_count": 157,
   "id": "f45e4bc4",
   "metadata": {},
   "outputs": [],
   "source": [
    "import numpy as np"
   ]
  },
  {
   "cell_type": "code",
   "execution_count": 158,
   "id": "7ed30fd7",
   "metadata": {},
   "outputs": [
    {
     "name": "stdout",
     "output_type": "stream",
     "text": [
      "CPU times: user 63.3 ms, sys: 19.7 ms, total: 83 ms\n",
      "Wall time: 84.7 ms\n"
     ]
    },
    {
     "data": {
      "text/plain": [
       "[3,\n",
       " 4,\n",
       " 5,\n",
       " 6,\n",
       " 7,\n",
       " 8,\n",
       " 9,\n",
       " 10,\n",
       " 11,\n",
       " 12,\n",
       " 13,\n",
       " 14,\n",
       " 15,\n",
       " 16,\n",
       " 17,\n",
       " 18,\n",
       " 19,\n",
       " 20,\n",
       " 21,\n",
       " 22,\n",
       " 23,\n",
       " 24,\n",
       " 25,\n",
       " 26,\n",
       " 27,\n",
       " 28,\n",
       " 29,\n",
       " 30,\n",
       " 31,\n",
       " 32,\n",
       " 33,\n",
       " 34,\n",
       " 35,\n",
       " 36,\n",
       " 37,\n",
       " 38,\n",
       " 39,\n",
       " 40,\n",
       " 41,\n",
       " 42,\n",
       " 43,\n",
       " 44,\n",
       " 45,\n",
       " 46,\n",
       " 47,\n",
       " 48,\n",
       " 49,\n",
       " 50,\n",
       " 51,\n",
       " 52,\n",
       " 53,\n",
       " 54,\n",
       " 55,\n",
       " 56,\n",
       " 57,\n",
       " 58,\n",
       " 59,\n",
       " 60,\n",
       " 61,\n",
       " 62,\n",
       " 63,\n",
       " 64,\n",
       " 65,\n",
       " 66,\n",
       " 67,\n",
       " 68,\n",
       " 69,\n",
       " 70,\n",
       " 71,\n",
       " 72,\n",
       " 73,\n",
       " 74,\n",
       " 75,\n",
       " 76,\n",
       " 77,\n",
       " 78,\n",
       " 79,\n",
       " 80,\n",
       " 81,\n",
       " 82,\n",
       " 83,\n",
       " 84,\n",
       " 85,\n",
       " 86,\n",
       " 87,\n",
       " 88,\n",
       " 89,\n",
       " 90,\n",
       " 91,\n",
       " 92,\n",
       " 93,\n",
       " 94,\n",
       " 95,\n",
       " 96,\n",
       " 97,\n",
       " 98,\n",
       " 99,\n",
       " 100,\n",
       " 101,\n",
       " 102,\n",
       " 103,\n",
       " 104,\n",
       " 105,\n",
       " 106,\n",
       " 107,\n",
       " 108,\n",
       " 109,\n",
       " 110,\n",
       " 111,\n",
       " 112,\n",
       " 113,\n",
       " 114,\n",
       " 115,\n",
       " 116,\n",
       " 117,\n",
       " 118,\n",
       " 119,\n",
       " 120,\n",
       " 121,\n",
       " 122,\n",
       " 123,\n",
       " 124,\n",
       " 125,\n",
       " 126,\n",
       " 127,\n",
       " 128,\n",
       " 129,\n",
       " 130,\n",
       " 131,\n",
       " 132,\n",
       " 133,\n",
       " 134,\n",
       " 135,\n",
       " 136,\n",
       " 137,\n",
       " 138,\n",
       " 139,\n",
       " 140,\n",
       " 141,\n",
       " 142,\n",
       " 143,\n",
       " 144,\n",
       " 145,\n",
       " 146,\n",
       " 147,\n",
       " 148,\n",
       " 149,\n",
       " 150,\n",
       " 151,\n",
       " 152,\n",
       " 153,\n",
       " 154,\n",
       " 155,\n",
       " 156,\n",
       " 157,\n",
       " 158,\n",
       " 159,\n",
       " 160,\n",
       " 161,\n",
       " 162,\n",
       " 163,\n",
       " 164,\n",
       " 165,\n",
       " 166,\n",
       " 167,\n",
       " 168,\n",
       " 169,\n",
       " 170,\n",
       " 171,\n",
       " 172,\n",
       " 173,\n",
       " 174,\n",
       " 175,\n",
       " 176,\n",
       " 177,\n",
       " 178,\n",
       " 179,\n",
       " 180,\n",
       " 181,\n",
       " 182,\n",
       " 183,\n",
       " 184,\n",
       " 185,\n",
       " 186,\n",
       " 187,\n",
       " 188,\n",
       " 189,\n",
       " 190,\n",
       " 191,\n",
       " 192,\n",
       " 193,\n",
       " 194,\n",
       " 195,\n",
       " 196,\n",
       " 197,\n",
       " 198,\n",
       " 199,\n",
       " 200,\n",
       " 201,\n",
       " 202,\n",
       " 203,\n",
       " 204,\n",
       " 205,\n",
       " 206,\n",
       " 207,\n",
       " 208,\n",
       " 209,\n",
       " 210,\n",
       " 211,\n",
       " 212,\n",
       " 213,\n",
       " 214,\n",
       " 215,\n",
       " 216,\n",
       " 217,\n",
       " 218,\n",
       " 219,\n",
       " 220,\n",
       " 221,\n",
       " 222,\n",
       " 223,\n",
       " 224,\n",
       " 225,\n",
       " 226,\n",
       " 227,\n",
       " 228,\n",
       " 229,\n",
       " 230,\n",
       " 231,\n",
       " 232,\n",
       " 233,\n",
       " 234,\n",
       " 235,\n",
       " 236,\n",
       " 237,\n",
       " 238,\n",
       " 239,\n",
       " 240,\n",
       " 241,\n",
       " 242,\n",
       " 243,\n",
       " 244,\n",
       " 245,\n",
       " 246,\n",
       " 247,\n",
       " 248,\n",
       " 249,\n",
       " 250,\n",
       " 251,\n",
       " 252,\n",
       " 253,\n",
       " 254,\n",
       " 255,\n",
       " 256,\n",
       " 257,\n",
       " 258,\n",
       " 259,\n",
       " 260,\n",
       " 261,\n",
       " 262,\n",
       " 263,\n",
       " 264,\n",
       " 265,\n",
       " 266,\n",
       " 267,\n",
       " 268,\n",
       " 269,\n",
       " 270,\n",
       " 271,\n",
       " 272,\n",
       " 273,\n",
       " 274,\n",
       " 275,\n",
       " 276,\n",
       " 277,\n",
       " 278,\n",
       " 279,\n",
       " 280,\n",
       " 281,\n",
       " 282,\n",
       " 283,\n",
       " 284,\n",
       " 285,\n",
       " 286,\n",
       " 287,\n",
       " 288,\n",
       " 289,\n",
       " 290,\n",
       " 291,\n",
       " 292,\n",
       " 293,\n",
       " 294,\n",
       " 295,\n",
       " 296,\n",
       " 297,\n",
       " 298,\n",
       " 299,\n",
       " 300,\n",
       " 301,\n",
       " 302,\n",
       " 303,\n",
       " 304,\n",
       " 305,\n",
       " 306,\n",
       " 307,\n",
       " 308,\n",
       " 309,\n",
       " 310,\n",
       " 311,\n",
       " 312,\n",
       " 313,\n",
       " 314,\n",
       " 315,\n",
       " 316,\n",
       " 317,\n",
       " 318,\n",
       " 319,\n",
       " 320,\n",
       " 321,\n",
       " 322,\n",
       " 323,\n",
       " 324,\n",
       " 325,\n",
       " 326,\n",
       " 327,\n",
       " 328,\n",
       " 329,\n",
       " 330,\n",
       " 331,\n",
       " 332,\n",
       " 333,\n",
       " 334,\n",
       " 335,\n",
       " 336,\n",
       " 337,\n",
       " 338,\n",
       " 339,\n",
       " 340,\n",
       " 341,\n",
       " 342,\n",
       " 343,\n",
       " 344,\n",
       " 345,\n",
       " 346,\n",
       " 347,\n",
       " 348,\n",
       " 349,\n",
       " 350,\n",
       " 351,\n",
       " 352,\n",
       " 353,\n",
       " 354,\n",
       " 355,\n",
       " 356,\n",
       " 357,\n",
       " 358,\n",
       " 359,\n",
       " 360,\n",
       " 361,\n",
       " 362,\n",
       " 363,\n",
       " 364,\n",
       " 365,\n",
       " 366,\n",
       " 367,\n",
       " 368,\n",
       " 369,\n",
       " 370,\n",
       " 371,\n",
       " 372,\n",
       " 373,\n",
       " 374,\n",
       " 375,\n",
       " 376,\n",
       " 377,\n",
       " 378,\n",
       " 379,\n",
       " 380,\n",
       " 381,\n",
       " 382,\n",
       " 383,\n",
       " 384,\n",
       " 385,\n",
       " 386,\n",
       " 387,\n",
       " 388,\n",
       " 389,\n",
       " 390,\n",
       " 391,\n",
       " 392,\n",
       " 393,\n",
       " 394,\n",
       " 395,\n",
       " 396,\n",
       " 397,\n",
       " 398,\n",
       " 399,\n",
       " 400,\n",
       " 401,\n",
       " 402,\n",
       " 403,\n",
       " 404,\n",
       " 405,\n",
       " 406,\n",
       " 407,\n",
       " 408,\n",
       " 409,\n",
       " 410,\n",
       " 411,\n",
       " 412,\n",
       " 413,\n",
       " 414,\n",
       " 415,\n",
       " 416,\n",
       " 417,\n",
       " 418,\n",
       " 419,\n",
       " 420,\n",
       " 421,\n",
       " 422,\n",
       " 423,\n",
       " 424,\n",
       " 425,\n",
       " 426,\n",
       " 427,\n",
       " 428,\n",
       " 429,\n",
       " 430,\n",
       " 431,\n",
       " 432,\n",
       " 433,\n",
       " 434,\n",
       " 435,\n",
       " 436,\n",
       " 437,\n",
       " 438,\n",
       " 439,\n",
       " 440,\n",
       " 441,\n",
       " 442,\n",
       " 443,\n",
       " 444,\n",
       " 445,\n",
       " 446,\n",
       " 447,\n",
       " 448,\n",
       " 449,\n",
       " 450,\n",
       " 451,\n",
       " 452,\n",
       " 453,\n",
       " 454,\n",
       " 455,\n",
       " 456,\n",
       " 457,\n",
       " 458,\n",
       " 459,\n",
       " 460,\n",
       " 461,\n",
       " 462,\n",
       " 463,\n",
       " 464,\n",
       " 465,\n",
       " 466,\n",
       " 467,\n",
       " 468,\n",
       " 469,\n",
       " 470,\n",
       " 471,\n",
       " 472,\n",
       " 473,\n",
       " 474,\n",
       " 475,\n",
       " 476,\n",
       " 477,\n",
       " 478,\n",
       " 479,\n",
       " 480,\n",
       " 481,\n",
       " 482,\n",
       " 483,\n",
       " 484,\n",
       " 485,\n",
       " 486,\n",
       " 487,\n",
       " 488,\n",
       " 489,\n",
       " 490,\n",
       " 491,\n",
       " 492,\n",
       " 493,\n",
       " 494,\n",
       " 495,\n",
       " 496,\n",
       " 497,\n",
       " 498,\n",
       " 499,\n",
       " 500,\n",
       " 501,\n",
       " 502,\n",
       " 503,\n",
       " 504,\n",
       " 505,\n",
       " 506,\n",
       " 507,\n",
       " 508,\n",
       " 509,\n",
       " 510,\n",
       " 511,\n",
       " 512,\n",
       " 513,\n",
       " 514,\n",
       " 515,\n",
       " 516,\n",
       " 517,\n",
       " 518,\n",
       " 519,\n",
       " 520,\n",
       " 521,\n",
       " 522,\n",
       " 523,\n",
       " 524,\n",
       " 525,\n",
       " 526,\n",
       " 527,\n",
       " 528,\n",
       " 529,\n",
       " 530,\n",
       " 531,\n",
       " 532,\n",
       " 533,\n",
       " 534,\n",
       " 535,\n",
       " 536,\n",
       " 537,\n",
       " 538,\n",
       " 539,\n",
       " 540,\n",
       " 541,\n",
       " 542,\n",
       " 543,\n",
       " 544,\n",
       " 545,\n",
       " 546,\n",
       " 547,\n",
       " 548,\n",
       " 549,\n",
       " 550,\n",
       " 551,\n",
       " 552,\n",
       " 553,\n",
       " 554,\n",
       " 555,\n",
       " 556,\n",
       " 557,\n",
       " 558,\n",
       " 559,\n",
       " 560,\n",
       " 561,\n",
       " 562,\n",
       " 563,\n",
       " 564,\n",
       " 565,\n",
       " 566,\n",
       " 567,\n",
       " 568,\n",
       " 569,\n",
       " 570,\n",
       " 571,\n",
       " 572,\n",
       " 573,\n",
       " 574,\n",
       " 575,\n",
       " 576,\n",
       " 577,\n",
       " 578,\n",
       " 579,\n",
       " 580,\n",
       " 581,\n",
       " 582,\n",
       " 583,\n",
       " 584,\n",
       " 585,\n",
       " 586,\n",
       " 587,\n",
       " 588,\n",
       " 589,\n",
       " 590,\n",
       " 591,\n",
       " 592,\n",
       " 593,\n",
       " 594,\n",
       " 595,\n",
       " 596,\n",
       " 597,\n",
       " 598,\n",
       " 599,\n",
       " 600,\n",
       " 601,\n",
       " 602,\n",
       " 603,\n",
       " 604,\n",
       " 605,\n",
       " 606,\n",
       " 607,\n",
       " 608,\n",
       " 609,\n",
       " 610,\n",
       " 611,\n",
       " 612,\n",
       " 613,\n",
       " 614,\n",
       " 615,\n",
       " 616,\n",
       " 617,\n",
       " 618,\n",
       " 619,\n",
       " 620,\n",
       " 621,\n",
       " 622,\n",
       " 623,\n",
       " 624,\n",
       " 625,\n",
       " 626,\n",
       " 627,\n",
       " 628,\n",
       " 629,\n",
       " 630,\n",
       " 631,\n",
       " 632,\n",
       " 633,\n",
       " 634,\n",
       " 635,\n",
       " 636,\n",
       " 637,\n",
       " 638,\n",
       " 639,\n",
       " 640,\n",
       " 641,\n",
       " 642,\n",
       " 643,\n",
       " 644,\n",
       " 645,\n",
       " 646,\n",
       " 647,\n",
       " 648,\n",
       " 649,\n",
       " 650,\n",
       " 651,\n",
       " 652,\n",
       " 653,\n",
       " 654,\n",
       " 655,\n",
       " 656,\n",
       " 657,\n",
       " 658,\n",
       " 659,\n",
       " 660,\n",
       " 661,\n",
       " 662,\n",
       " 663,\n",
       " 664,\n",
       " 665,\n",
       " 666,\n",
       " 667,\n",
       " 668,\n",
       " 669,\n",
       " 670,\n",
       " 671,\n",
       " 672,\n",
       " 673,\n",
       " 674,\n",
       " 675,\n",
       " 676,\n",
       " 677,\n",
       " 678,\n",
       " 679,\n",
       " 680,\n",
       " 681,\n",
       " 682,\n",
       " 683,\n",
       " 684,\n",
       " 685,\n",
       " 686,\n",
       " 687,\n",
       " 688,\n",
       " 689,\n",
       " 690,\n",
       " 691,\n",
       " 692,\n",
       " 693,\n",
       " 694,\n",
       " 695,\n",
       " 696,\n",
       " 697,\n",
       " 698,\n",
       " 699,\n",
       " 700,\n",
       " 701,\n",
       " 702,\n",
       " 703,\n",
       " 704,\n",
       " 705,\n",
       " 706,\n",
       " 707,\n",
       " 708,\n",
       " 709,\n",
       " 710,\n",
       " 711,\n",
       " 712,\n",
       " 713,\n",
       " 714,\n",
       " 715,\n",
       " 716,\n",
       " 717,\n",
       " 718,\n",
       " 719,\n",
       " 720,\n",
       " 721,\n",
       " 722,\n",
       " 723,\n",
       " 724,\n",
       " 725,\n",
       " 726,\n",
       " 727,\n",
       " 728,\n",
       " 729,\n",
       " 730,\n",
       " 731,\n",
       " 732,\n",
       " 733,\n",
       " 734,\n",
       " 735,\n",
       " 736,\n",
       " 737,\n",
       " 738,\n",
       " 739,\n",
       " 740,\n",
       " 741,\n",
       " 742,\n",
       " 743,\n",
       " 744,\n",
       " 745,\n",
       " 746,\n",
       " 747,\n",
       " 748,\n",
       " 749,\n",
       " 750,\n",
       " 751,\n",
       " 752,\n",
       " 753,\n",
       " 754,\n",
       " 755,\n",
       " 756,\n",
       " 757,\n",
       " 758,\n",
       " 759,\n",
       " 760,\n",
       " 761,\n",
       " 762,\n",
       " 763,\n",
       " 764,\n",
       " 765,\n",
       " 766,\n",
       " 767,\n",
       " 768,\n",
       " 769,\n",
       " 770,\n",
       " 771,\n",
       " 772,\n",
       " 773,\n",
       " 774,\n",
       " 775,\n",
       " 776,\n",
       " 777,\n",
       " 778,\n",
       " 779,\n",
       " 780,\n",
       " 781,\n",
       " 782,\n",
       " 783,\n",
       " 784,\n",
       " 785,\n",
       " 786,\n",
       " 787,\n",
       " 788,\n",
       " 789,\n",
       " 790,\n",
       " 791,\n",
       " 792,\n",
       " 793,\n",
       " 794,\n",
       " 795,\n",
       " 796,\n",
       " 797,\n",
       " 798,\n",
       " 799,\n",
       " 800,\n",
       " 801,\n",
       " 802,\n",
       " 803,\n",
       " 804,\n",
       " 805,\n",
       " 806,\n",
       " 807,\n",
       " 808,\n",
       " 809,\n",
       " 810,\n",
       " 811,\n",
       " 812,\n",
       " 813,\n",
       " 814,\n",
       " 815,\n",
       " 816,\n",
       " 817,\n",
       " 818,\n",
       " 819,\n",
       " 820,\n",
       " 821,\n",
       " 822,\n",
       " 823,\n",
       " 824,\n",
       " 825,\n",
       " 826,\n",
       " 827,\n",
       " 828,\n",
       " 829,\n",
       " 830,\n",
       " 831,\n",
       " 832,\n",
       " 833,\n",
       " 834,\n",
       " 835,\n",
       " 836,\n",
       " 837,\n",
       " 838,\n",
       " 839,\n",
       " 840,\n",
       " 841,\n",
       " 842,\n",
       " 843,\n",
       " 844,\n",
       " 845,\n",
       " 846,\n",
       " 847,\n",
       " 848,\n",
       " 849,\n",
       " 850,\n",
       " 851,\n",
       " 852,\n",
       " 853,\n",
       " 854,\n",
       " 855,\n",
       " 856,\n",
       " 857,\n",
       " 858,\n",
       " 859,\n",
       " 860,\n",
       " 861,\n",
       " 862,\n",
       " 863,\n",
       " 864,\n",
       " 865,\n",
       " 866,\n",
       " 867,\n",
       " 868,\n",
       " 869,\n",
       " 870,\n",
       " 871,\n",
       " 872,\n",
       " 873,\n",
       " 874,\n",
       " 875,\n",
       " 876,\n",
       " 877,\n",
       " 878,\n",
       " 879,\n",
       " 880,\n",
       " 881,\n",
       " 882,\n",
       " 883,\n",
       " 884,\n",
       " 885,\n",
       " 886,\n",
       " 887,\n",
       " 888,\n",
       " 889,\n",
       " 890,\n",
       " 891,\n",
       " 892,\n",
       " 893,\n",
       " 894,\n",
       " 895,\n",
       " 896,\n",
       " 897,\n",
       " 898,\n",
       " 899,\n",
       " 900,\n",
       " 901,\n",
       " 902,\n",
       " 903,\n",
       " 904,\n",
       " 905,\n",
       " 906,\n",
       " 907,\n",
       " 908,\n",
       " 909,\n",
       " 910,\n",
       " 911,\n",
       " 912,\n",
       " 913,\n",
       " 914,\n",
       " 915,\n",
       " 916,\n",
       " 917,\n",
       " 918,\n",
       " 919,\n",
       " 920,\n",
       " 921,\n",
       " 922,\n",
       " 923,\n",
       " 924,\n",
       " 925,\n",
       " 926,\n",
       " 927,\n",
       " 928,\n",
       " 929,\n",
       " 930,\n",
       " 931,\n",
       " 932,\n",
       " 933,\n",
       " 934,\n",
       " 935,\n",
       " 936,\n",
       " 937,\n",
       " 938,\n",
       " 939,\n",
       " 940,\n",
       " 941,\n",
       " 942,\n",
       " 943,\n",
       " 944,\n",
       " 945,\n",
       " 946,\n",
       " 947,\n",
       " 948,\n",
       " 949,\n",
       " 950,\n",
       " 951,\n",
       " 952,\n",
       " 953,\n",
       " 954,\n",
       " 955,\n",
       " 956,\n",
       " 957,\n",
       " 958,\n",
       " 959,\n",
       " 960,\n",
       " 961,\n",
       " 962,\n",
       " 963,\n",
       " 964,\n",
       " 965,\n",
       " 966,\n",
       " 967,\n",
       " 968,\n",
       " 969,\n",
       " 970,\n",
       " 971,\n",
       " 972,\n",
       " 973,\n",
       " 974,\n",
       " 975,\n",
       " 976,\n",
       " 977,\n",
       " 978,\n",
       " 979,\n",
       " 980,\n",
       " 981,\n",
       " 982,\n",
       " 983,\n",
       " 984,\n",
       " 985,\n",
       " 986,\n",
       " 987,\n",
       " 988,\n",
       " 989,\n",
       " 990,\n",
       " 991,\n",
       " 992,\n",
       " 993,\n",
       " 994,\n",
       " 995,\n",
       " 996,\n",
       " 997,\n",
       " 998,\n",
       " 999,\n",
       " 1000,\n",
       " 1001,\n",
       " 1002,\n",
       " ...]"
      ]
     },
     "execution_count": 158,
     "metadata": {},
     "output_type": "execute_result"
    }
   ],
   "source": [
    "%%time\n",
    "[i+2 for i in range(1,1000000)]"
   ]
  },
  {
   "cell_type": "code",
   "execution_count": 159,
   "id": "b1ea8d54",
   "metadata": {},
   "outputs": [
    {
     "name": "stdout",
     "output_type": "stream",
     "text": [
      "CPU times: user 3.16 ms, sys: 27.5 ms, total: 30.7 ms\n",
      "Wall time: 38.9 ms\n"
     ]
    },
    {
     "data": {
      "text/plain": [
       "array([      3,       4,       5, ...,  999999, 1000000, 1000001])"
      ]
     },
     "execution_count": 159,
     "metadata": {},
     "output_type": "execute_result"
    }
   ],
   "source": [
    "%%time\n",
    "np.arange(1,1000000) + 2"
   ]
  },
  {
   "cell_type": "code",
   "execution_count": 160,
   "id": "781f1e8c",
   "metadata": {},
   "outputs": [
    {
     "data": {
      "text/plain": [
       "array([ 1,  2,  3,  4,  5,  6,  7,  8,  9, 10])"
      ]
     },
     "execution_count": 160,
     "metadata": {},
     "output_type": "execute_result"
    }
   ],
   "source": [
    "a = np.arange(1,11)\n",
    "a"
   ]
  },
  {
   "cell_type": "code",
   "execution_count": 161,
   "id": "76ebadd6",
   "metadata": {},
   "outputs": [
    {
     "data": {
      "text/plain": [
       "array([[ 0,  1,  2,  3,  4,  5,  6,  7,  8,  9],\n",
       "       [10, 11, 12, 13, 14, 15, 16, 17, 18, 19],\n",
       "       [20, 21, 22, 23, 24, 25, 26, 27, 28, 29],\n",
       "       [30, 31, 32, 33, 34, 35, 36, 37, 38, 39],\n",
       "       [40, 41, 42, 43, 44, 45, 46, 47, 48, 49],\n",
       "       [50, 51, 52, 53, 54, 55, 56, 57, 58, 59],\n",
       "       [60, 61, 62, 63, 64, 65, 66, 67, 68, 69],\n",
       "       [70, 71, 72, 73, 74, 75, 76, 77, 78, 79],\n",
       "       [80, 81, 82, 83, 84, 85, 86, 87, 88, 89],\n",
       "       [90, 91, 92, 93, 94, 95, 96, 97, 98, 99]])"
      ]
     },
     "execution_count": 161,
     "metadata": {},
     "output_type": "execute_result"
    }
   ],
   "source": [
    "a = np.arange(10*10).reshape(10,10)\n",
    "a"
   ]
  },
  {
   "cell_type": "code",
   "execution_count": 162,
   "id": "b83bb35f",
   "metadata": {},
   "outputs": [
    {
     "data": {
      "text/plain": [
       "array([[  5,   6,   7,   8,   9,  10,  11,  12,  13,  14],\n",
       "       [ 15,  16,  17,  18,  19,  20,  21,  22,  23,  24],\n",
       "       [ 25,  26,  27,  28,  29,  30,  31,  32,  33,  34],\n",
       "       [ 35,  36,  37,  38,  39,  40,  41,  42,  43,  44],\n",
       "       [ 45,  46,  47,  48,  49,  50,  51,  52,  53,  54],\n",
       "       [ 55,  56,  57,  58,  59,  60,  61,  62,  63,  64],\n",
       "       [ 65,  66,  67,  68,  69,  70,  71,  72,  73,  74],\n",
       "       [ 75,  76,  77,  78,  79,  80,  81,  82,  83,  84],\n",
       "       [ 85,  86,  87,  88,  89,  90,  91,  92,  93,  94],\n",
       "       [ 95,  96,  97,  98,  99, 100, 101, 102, 103, 104]])"
      ]
     },
     "execution_count": 162,
     "metadata": {},
     "output_type": "execute_result"
    }
   ],
   "source": [
    "a + 5"
   ]
  },
  {
   "cell_type": "markdown",
   "id": "2625d4a6",
   "metadata": {},
   "source": [
    "<img src='data:image/png;base64,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'>"
   ]
  },
  {
   "cell_type": "code",
   "execution_count": 164,
   "id": "94b8a846",
   "metadata": {},
   "outputs": [
    {
     "data": {
      "text/plain": [
       "array([[[ 0,  1,  2,  3,  4],\n",
       "        [ 5,  6,  7,  8,  9],\n",
       "        [10, 11, 12, 13, 14],\n",
       "        [15, 16, 17, 18, 19],\n",
       "        [20, 21, 22, 23, 24]],\n",
       "\n",
       "       [[25, 26, 27, 28, 29],\n",
       "        [30, 31, 32, 33, 34],\n",
       "        [35, 36, 37, 38, 39],\n",
       "        [40, 41, 42, 43, 44],\n",
       "        [45, 46, 47, 48, 49]],\n",
       "\n",
       "       [[50, 51, 52, 53, 54],\n",
       "        [55, 56, 57, 58, 59],\n",
       "        [60, 61, 62, 63, 64],\n",
       "        [65, 66, 67, 68, 69],\n",
       "        [70, 71, 72, 73, 74]]])"
      ]
     },
     "execution_count": 164,
     "metadata": {},
     "output_type": "execute_result"
    }
   ],
   "source": [
    "a = np.arange(3*5*5).reshape(3,5,5)\n",
    "a"
   ]
  },
  {
   "cell_type": "code",
   "execution_count": 165,
   "id": "6bbd300b",
   "metadata": {},
   "outputs": [
    {
     "data": {
      "text/plain": [
       "array([[[ 2,  3,  4,  5,  6],\n",
       "        [ 7,  8,  9, 10, 11],\n",
       "        [12, 13, 14, 15, 16],\n",
       "        [17, 18, 19, 20, 21],\n",
       "        [22, 23, 24, 25, 26]],\n",
       "\n",
       "       [[27, 28, 29, 30, 31],\n",
       "        [32, 33, 34, 35, 36],\n",
       "        [37, 38, 39, 40, 41],\n",
       "        [42, 43, 44, 45, 46],\n",
       "        [47, 48, 49, 50, 51]],\n",
       "\n",
       "       [[52, 53, 54, 55, 56],\n",
       "        [57, 58, 59, 60, 61],\n",
       "        [62, 63, 64, 65, 66],\n",
       "        [67, 68, 69, 70, 71],\n",
       "        [72, 73, 74, 75, 76]]])"
      ]
     },
     "execution_count": 165,
     "metadata": {},
     "output_type": "execute_result"
    }
   ],
   "source": [
    "a = np.arange(3*5*5).reshape(3,5,5)\n",
    "a + 2"
   ]
  },
  {
   "cell_type": "code",
   "execution_count": 167,
   "id": "91a461ce",
   "metadata": {},
   "outputs": [
    {
     "name": "stdout",
     "output_type": "stream",
     "text": [
      "[[[ 0  1  2  3  4]\n",
      "  [ 5  6  7  8  9]\n",
      "  [10 11 12 13 14]\n",
      "  [15 16 17 18 19]\n",
      "  [20 21 22 23 24]]\n",
      "\n",
      " [[25 26 27 28 29]\n",
      "  [30 31 32 33 34]\n",
      "  [35 36 37 38 39]\n",
      "  [40 41 42 43 44]\n",
      "  [45 46 47 48 49]]\n",
      "\n",
      " [[50 51 52 53 54]\n",
      "  [55 56 57 58 59]\n",
      "  [60 61 62 63 64]\n",
      "  [65 66 67 68 69]\n",
      "  [70 71 72 73 74]]]\n",
      "<class 'numpy.ndarray'>\n",
      "Size 75\n",
      "type int64\n",
      "Shape (3, 5, 5)\n",
      "Diminsion 3\n"
     ]
    }
   ],
   "source": [
    "print(a)\n",
    "print(type(a))\n",
    "print(\"Size\",a.size)\n",
    "print(\"type\",a.dtype)\n",
    "print(\"Shape\",a.shape)\n",
    "print(\"Diminsion\",a.ndim)"
   ]
  },
  {
   "cell_type": "code",
   "execution_count": 169,
   "id": "be69bad0",
   "metadata": {},
   "outputs": [
    {
     "name": "stdout",
     "output_type": "stream",
     "text": [
      "[[[ 0  1  2  3  4]\n",
      "  [ 5  6  7  8  9]\n",
      "  [10 11 12 13 14]\n",
      "  [15 16 17 18 19]\n",
      "  [20 21 22 23 24]]\n",
      "\n",
      " [[25 26 27 28 29]\n",
      "  [30 31 32 33 34]\n",
      "  [35 36 37 38 39]\n",
      "  [40 41 42 43 44]\n",
      "  [45 46 47 48 49]]\n",
      "\n",
      " [[50 51 52 53 54]\n",
      "  [55 56 57 58 59]\n",
      "  [60 61 62 63 64]\n",
      "  [65 66 67 68 69]\n",
      "  [70 71 72 73 74]]]\n"
     ]
    },
    {
     "data": {
      "text/plain": [
       "array([[[ 0,  1,  2,  3,  4],\n",
       "        [ 5,  6,  7,  8,  9],\n",
       "        [10, 11, 12, 13, 14],\n",
       "        [15, 16, 17, 18, 19],\n",
       "        [20, 21, 22, 23, 24]],\n",
       "\n",
       "       [[25, 26, 27, 28, 29],\n",
       "        [30, 31, 32, 33, 34],\n",
       "        [35, 36, 37, 38, 39],\n",
       "        [40, 41, 42, 43, 44],\n",
       "        [45, 46, 47, 48, 49]],\n",
       "\n",
       "       [[50, 51, 52, 53, 54],\n",
       "        [55, 56, 57, 58, 59],\n",
       "        [60, 61, 62, 63, 64],\n",
       "        [65, 66, 67, 68, 69],\n",
       "        [70, 71, 72, 73, 74]]])"
      ]
     },
     "execution_count": 169,
     "metadata": {},
     "output_type": "execute_result"
    }
   ],
   "source": [
    "print(a)\n",
    "a[::,::,::]"
   ]
  },
  {
   "cell_type": "code",
   "execution_count": 171,
   "id": "d6a1ea11",
   "metadata": {},
   "outputs": [
    {
     "name": "stdout",
     "output_type": "stream",
     "text": [
      "[[[ 0  1  2  3  4]\n",
      "  [ 5  6  7  8  9]\n",
      "  [10 11 12 13 14]\n",
      "  [15 16 17 18 19]\n",
      "  [20 21 22 23 24]]\n",
      "\n",
      " [[25 26 27 28 29]\n",
      "  [30 31 32 33 34]\n",
      "  [35 36 37 38 39]\n",
      "  [40 41 42 43 44]\n",
      "  [45 46 47 48 49]]\n",
      "\n",
      " [[50 51 52 53 54]\n",
      "  [55 56 57 58 59]\n",
      "  [60 61 62 63 64]\n",
      "  [65 66 67 68 69]\n",
      "  [70 71 72 73 74]]]\n",
      "======\n",
      "[[ 0  1  2  3  4]\n",
      " [ 5  6  7  8  9]\n",
      " [10 11 12 13 14]\n",
      " [15 16 17 18 19]\n",
      " [20 21 22 23 24]]\n"
     ]
    }
   ],
   "source": [
    "print(a)\n",
    "print(\"======\")\n",
    "print(a[0])"
   ]
  },
  {
   "cell_type": "code",
   "execution_count": 174,
   "id": "534e3b64",
   "metadata": {},
   "outputs": [
    {
     "name": "stdout",
     "output_type": "stream",
     "text": [
      "[[[ 0  1  2  3  4]\n",
      "  [ 5  6  7  8  9]\n",
      "  [10 11 12 13 14]\n",
      "  [15 16 17 18 19]\n",
      "  [20 21 22 23 24]]\n",
      "\n",
      " [[25 26 27 28 29]\n",
      "  [30 31 32 33 34]\n",
      "  [35 36 37 38 39]\n",
      "  [40 41 42 43 44]\n",
      "  [45 46 47 48 49]]\n",
      "\n",
      " [[50 51 52 53 54]\n",
      "  [55 56 57 58 59]\n",
      "  [60 61 62 63 64]\n",
      "  [65 66 67 68 69]\n",
      "  [70 71 72 73 74]]]\n",
      "=======\n",
      "[[[ 0  2  4]\n",
      "  [ 5  7  9]\n",
      "  [10 12 14]\n",
      "  [15 17 19]\n",
      "  [20 22 24]]\n",
      "\n",
      " [[25 27 29]\n",
      "  [30 32 34]\n",
      "  [35 37 39]\n",
      "  [40 42 44]\n",
      "  [45 47 49]]\n",
      "\n",
      " [[50 52 54]\n",
      "  [55 57 59]\n",
      "  [60 62 64]\n",
      "  [65 67 69]\n",
      "  [70 72 74]]]\n"
     ]
    }
   ],
   "source": [
    "print(a)\n",
    "print(\"=======\")\n",
    "print(a[::,::,::2])"
   ]
  },
  {
   "cell_type": "markdown",
   "id": "47bb9e42",
   "metadata": {},
   "source": [
    "# Numpy General Functions"
   ]
  },
  {
   "cell_type": "code",
   "execution_count": 182,
   "id": "979410bc",
   "metadata": {},
   "outputs": [
    {
     "data": {
      "text/plain": [
       "array([[11, 22, 31, 47, 60, 99, 91, 76, 73, 36],\n",
       "       [76, 58, 81, 65, 65, 42, 73, 54, 17, 54],\n",
       "       [72, 86, 83, 78, 73, 48, 34, 82,  8, 89],\n",
       "       [86, 50, 31, 21,  5, 91, 72, 67, 28, 28],\n",
       "       [11, 54, 82,  4, 90, 74, 22,  9, 50, 34],\n",
       "       [87, 21, 66, 16, 54, 10, 41, 47, 57, 64],\n",
       "       [47, 84, 21, 47, 40, 28, 34, 83,  2, 47],\n",
       "       [41, 60, 91, 36, 18, 73, 43, 50, 39, 15],\n",
       "       [92, 52, 67, 86, 24, 24, 88, 92,  4, 33],\n",
       "       [36, 53, 98, 12, 56, 71, 42, 81,  2, 43]])"
      ]
     },
     "execution_count": 182,
     "metadata": {},
     "output_type": "execute_result"
    }
   ],
   "source": [
    "a = np.random.randint(1,100,(10,10))\n",
    "a"
   ]
  },
  {
   "cell_type": "code",
   "execution_count": 186,
   "id": "0e6b22d7",
   "metadata": {},
   "outputs": [
    {
     "name": "stdout",
     "output_type": "stream",
     "text": [
      "[ 1  2  3  4  5  6  7  8  9 10]\n",
      "1\n"
     ]
    },
    {
     "data": {
      "text/plain": [
       "array([ 1, 10,  6,  2])"
      ]
     },
     "execution_count": 186,
     "metadata": {},
     "output_type": "execute_result"
    }
   ],
   "source": [
    "a = np.arange(1,11)\n",
    "print(a)\n",
    "print(a[0])\n",
    "a[[0,9,5,1]]"
   ]
  },
  {
   "cell_type": "code",
   "execution_count": 190,
   "id": "e96f6a83",
   "metadata": {},
   "outputs": [
    {
     "name": "stdout",
     "output_type": "stream",
     "text": [
      "[1 2 3 4]\n",
      "[1]\n",
      "[1 3]\n"
     ]
    }
   ],
   "source": [
    "a = np.arange(1,5)\n",
    "print(a)\n",
    "print(a[[True,False,False,False]])\n",
    "print(a[[True,False,True,False]])\n"
   ]
  },
  {
   "cell_type": "code",
   "execution_count": 176,
   "id": "4db06253",
   "metadata": {},
   "outputs": [
    {
     "data": {
      "text/plain": [
       "array([[1., 1., 1., 1., 1., 1., 1., 1., 1., 1.],\n",
       "       [1., 1., 1., 1., 1., 1., 1., 1., 1., 1.],\n",
       "       [1., 1., 1., 1., 1., 1., 1., 1., 1., 1.],\n",
       "       [1., 1., 1., 1., 1., 1., 1., 1., 1., 1.],\n",
       "       [1., 1., 1., 1., 1., 1., 1., 1., 1., 1.],\n",
       "       [1., 1., 1., 1., 1., 1., 1., 1., 1., 1.],\n",
       "       [1., 1., 1., 1., 1., 1., 1., 1., 1., 1.],\n",
       "       [1., 1., 1., 1., 1., 1., 1., 1., 1., 1.],\n",
       "       [1., 1., 1., 1., 1., 1., 1., 1., 1., 1.],\n",
       "       [1., 1., 1., 1., 1., 1., 1., 1., 1., 1.]])"
      ]
     },
     "execution_count": 176,
     "metadata": {},
     "output_type": "execute_result"
    }
   ],
   "source": [
    "np.ones((10,10))"
   ]
  },
  {
   "cell_type": "code",
   "execution_count": 178,
   "id": "f0391aa3",
   "metadata": {},
   "outputs": [
    {
     "data": {
      "text/plain": [
       "array([[[1, 1, 1, 1, 1, 1, 1, 1, 1, 1],\n",
       "        [1, 1, 1, 1, 1, 1, 1, 1, 1, 1],\n",
       "        [1, 1, 1, 1, 1, 1, 1, 1, 1, 1],\n",
       "        [1, 1, 1, 1, 1, 1, 1, 1, 1, 1],\n",
       "        [1, 1, 1, 1, 1, 1, 1, 1, 1, 1],\n",
       "        [1, 1, 1, 1, 1, 1, 1, 1, 1, 1],\n",
       "        [1, 1, 1, 1, 1, 1, 1, 1, 1, 1],\n",
       "        [1, 1, 1, 1, 1, 1, 1, 1, 1, 1],\n",
       "        [1, 1, 1, 1, 1, 1, 1, 1, 1, 1],\n",
       "        [1, 1, 1, 1, 1, 1, 1, 1, 1, 1]],\n",
       "\n",
       "       [[1, 1, 1, 1, 1, 1, 1, 1, 1, 1],\n",
       "        [1, 1, 1, 1, 1, 1, 1, 1, 1, 1],\n",
       "        [1, 1, 1, 1, 1, 1, 1, 1, 1, 1],\n",
       "        [1, 1, 1, 1, 1, 1, 1, 1, 1, 1],\n",
       "        [1, 1, 1, 1, 1, 1, 1, 1, 1, 1],\n",
       "        [1, 1, 1, 1, 1, 1, 1, 1, 1, 1],\n",
       "        [1, 1, 1, 1, 1, 1, 1, 1, 1, 1],\n",
       "        [1, 1, 1, 1, 1, 1, 1, 1, 1, 1],\n",
       "        [1, 1, 1, 1, 1, 1, 1, 1, 1, 1],\n",
       "        [1, 1, 1, 1, 1, 1, 1, 1, 1, 1]],\n",
       "\n",
       "       [[1, 1, 1, 1, 1, 1, 1, 1, 1, 1],\n",
       "        [1, 1, 1, 1, 1, 1, 1, 1, 1, 1],\n",
       "        [1, 1, 1, 1, 1, 1, 1, 1, 1, 1],\n",
       "        [1, 1, 1, 1, 1, 1, 1, 1, 1, 1],\n",
       "        [1, 1, 1, 1, 1, 1, 1, 1, 1, 1],\n",
       "        [1, 1, 1, 1, 1, 1, 1, 1, 1, 1],\n",
       "        [1, 1, 1, 1, 1, 1, 1, 1, 1, 1],\n",
       "        [1, 1, 1, 1, 1, 1, 1, 1, 1, 1],\n",
       "        [1, 1, 1, 1, 1, 1, 1, 1, 1, 1],\n",
       "        [1, 1, 1, 1, 1, 1, 1, 1, 1, 1]]])"
      ]
     },
     "execution_count": 178,
     "metadata": {},
     "output_type": "execute_result"
    }
   ],
   "source": [
    "np.ones((3,10,10), dtype=np.int64)"
   ]
  },
  {
   "cell_type": "code",
   "execution_count": 181,
   "id": "0bbf5e40",
   "metadata": {},
   "outputs": [
    {
     "data": {
      "text/plain": [
       "array([[1],\n",
       "       [1],\n",
       "       [1],\n",
       "       [1],\n",
       "       [1],\n",
       "       [1],\n",
       "       [1],\n",
       "       [1],\n",
       "       [1],\n",
       "       [1]])"
      ]
     },
     "execution_count": 181,
     "metadata": {},
     "output_type": "execute_result"
    }
   ],
   "source": [
    "np.ones((10,1), dtype=np.int64)"
   ]
  },
  {
   "cell_type": "code",
   "execution_count": 193,
   "id": "f1f8575a",
   "metadata": {},
   "outputs": [
    {
     "name": "stdout",
     "output_type": "stream",
     "text": [
      "[[  1   2   3   4   5   6   7   8   9  10]\n",
      " [ 11  12  13  14  15  16  17  18  19  20]\n",
      " [ 21  22  23  24  25  26  27  28  29  30]\n",
      " [ 31  32  33  34  35  36  37  38  39  40]\n",
      " [ 41  42  43  44  45  46  47  48  49  50]\n",
      " [ 51  52  53  54  55  56  57  58  59  60]\n",
      " [ 61  62  63  64  65  66  67  68  69  70]\n",
      " [ 71  72  73  74  75  76  77  78  79  80]\n",
      " [ 81  82  83  84  85  86  87  88  89  90]\n",
      " [ 91  92  93  94  95  96  97  98  99 100]]\n",
      "[[False False False False  True False False False False  True]\n",
      " [False False False False  True False False False False  True]\n",
      " [False False False False  True False False False False  True]\n",
      " [False False False False  True False False False False  True]\n",
      " [False False False False  True False False False False  True]\n",
      " [False False False False  True False False False False  True]\n",
      " [False False False False  True False False False False  True]\n",
      " [False False False False  True False False False False  True]\n",
      " [False False False False  True False False False False  True]\n",
      " [False False False False  True False False False False  True]]\n"
     ]
    }
   ],
   "source": [
    "a = np.arange(1,101).reshape(10,10)\n",
    "print(a)\n",
    "print(a % 5== 0)"
   ]
  },
  {
   "cell_type": "code",
   "execution_count": 197,
   "id": "25e765d8",
   "metadata": {},
   "outputs": [
    {
     "name": "stdout",
     "output_type": "stream",
     "text": [
      "[[  1   2   3   4   5   6   7   8   9  10]\n",
      " [ 11  12  13  14  15  16  17  18  19  20]\n",
      " [ 21  22  23  24  25  26  27  28  29  30]\n",
      " [ 31  32  33  34  35  36  37  38  39  40]\n",
      " [ 41  42  43  44  45  46  47  48  49  50]\n",
      " [ 51  52  53  54  55  56  57  58  59  60]\n",
      " [ 61  62  63  64  65  66  67  68  69  70]\n",
      " [ 71  72  73  74  75  76  77  78  79  80]\n",
      " [ 81  82  83  84  85  86  87  88  89  90]\n",
      " [ 91  92  93  94  95  96  97  98  99 100]]\n",
      "[[False False False False False False False False False False]\n",
      " [False False False False False False False False False False]\n",
      " [False False False False False False False False False False]\n",
      " [False False False False  True False False False False False]\n",
      " [False False False False False False False False False False]\n",
      " [False False False False False False False False False False]\n",
      " [False False False False False False False False False  True]\n",
      " [False False False False False False False False False False]\n",
      " [False False False False False False False False False False]\n",
      " [False False False False False False False False False False]]\n"
     ]
    }
   ],
   "source": [
    "a = np.arange(1,101).reshape(10,10)\n",
    "print(a)\n",
    "print((a % 5== 0) & (a % 7 == 0))"
   ]
  },
  {
   "cell_type": "code",
   "execution_count": 198,
   "id": "c007c7ef",
   "metadata": {},
   "outputs": [
    {
     "data": {
      "text/plain": [
       "array([35, 70])"
      ]
     },
     "execution_count": 198,
     "metadata": {},
     "output_type": "execute_result"
    }
   ],
   "source": [
    "a[(a % 5== 0) & (a % 7 == 0)]"
   ]
  },
  {
   "cell_type": "code",
   "execution_count": 200,
   "id": "79ec1f02",
   "metadata": {},
   "outputs": [
    {
     "name": "stdout",
     "output_type": "stream",
     "text": [
      "[1 2 3 5]\n",
      "[  1   5   7   9  10  20  23 200]\n",
      "[ True False False  True]\n",
      "[1 5]\n"
     ]
    }
   ],
   "source": [
    "state_bank = np.array([1,2,3,5])\n",
    "ubl_data = np.array([1,5,7,9,10,20,23,200])\n",
    "\n",
    "print(state_bank)\n",
    "print(ubl_data)\n",
    "print(np.in1d(state_bank,ubl_data))\n",
    "print(state_bank[np.in1d(state_bank,ubl_data)])"
   ]
  },
  {
   "cell_type": "code",
   "execution_count": 201,
   "id": "e0444935",
   "metadata": {},
   "outputs": [
    {
     "name": "stdout",
     "output_type": "stream",
     "text": [
      "[1 2 3 5]\n",
      "[  1   5   7   9  10  20  23 200]\n"
     ]
    },
    {
     "data": {
      "text/plain": [
       "array([1, 5])"
      ]
     },
     "execution_count": 201,
     "metadata": {},
     "output_type": "execute_result"
    }
   ],
   "source": [
    "state_bank = np.array([1,2,3,5])\n",
    "ubl_data = np.array([1,5,7,9,10,20,23,200])\n",
    "\n",
    "print(state_bank)\n",
    "print(ubl_data)\n",
    "np.intersect1d(state_bank,ubl_data)"
   ]
  },
  {
   "cell_type": "code",
   "execution_count": 202,
   "id": "d6410750",
   "metadata": {},
   "outputs": [
    {
     "name": "stdout",
     "output_type": "stream",
     "text": [
      "[1 2 3 5]\n",
      "[  1   5   7   9  10  20  23 200]\n"
     ]
    },
    {
     "data": {
      "text/plain": [
       "array([  1,   2,   3,   5,   7,   9,  10,  20,  23, 200])"
      ]
     },
     "execution_count": 202,
     "metadata": {},
     "output_type": "execute_result"
    }
   ],
   "source": [
    "state_bank = np.array([1,2,3,5])\n",
    "ubl_data = np.array([1,5,7,9,10,20,23,200])\n",
    "\n",
    "print(state_bank)\n",
    "print(ubl_data)\n",
    "np.union1d(state_bank,ubl_data)"
   ]
  },
  {
   "cell_type": "code",
   "execution_count": 208,
   "id": "77538e21",
   "metadata": {},
   "outputs": [
    {
     "data": {
      "text/plain": [
       "array([1. , 1.2, 1.4, 1.6, 1.8, 2. ])"
      ]
     },
     "execution_count": 208,
     "metadata": {},
     "output_type": "execute_result"
    }
   ],
   "source": [
    "np.linspace(1,2,6)"
   ]
  },
  {
   "cell_type": "code",
   "execution_count": null,
   "id": "c83e1aa6",
   "metadata": {},
   "outputs": [],
   "source": []
  }
 ],
 "metadata": {
  "kernelspec": {
   "display_name": "Python 3",
   "language": "python",
   "name": "python3"
  },
  "language_info": {
   "codemirror_mode": {
    "name": "ipython",
    "version": 3
   },
   "file_extension": ".py",
   "mimetype": "text/x-python",
   "name": "python",
   "nbconvert_exporter": "python",
   "pygments_lexer": "ipython3",
   "version": "3.7.15"
  }
 },
 "nbformat": 4,
 "nbformat_minor": 5
}
