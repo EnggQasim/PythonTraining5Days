{
 "cells": [
  {
   "cell_type": "markdown",
   "metadata": {
    "execution_time": [
     1667412697714
    ],
    "pycharm": {
     "name": "#%% md\n"
    }
   },
   "source": [
    "# Coding Exercise\n",
    "Below you'll find a prompt describing a function that you need to implement.\n",
    "\n",
    "1. **Instead of changing existing code in place, create a new cell and rewrite the code.** This is important because we can't see the history of edited cells in the notebook.\n",
    "2. **Before you write code, explain what you’re about to do.** For example, if the previous cell has an error that you want to fix, explain what caused the error and how you plan to fix it.\n",
    "3. **Before you execute code that has outputs, think about what you hope to learn.** This notebook will prompt you write down your thought process. Do not update your explanation after seeing the output, unless you made a genuine mistake when guessing (e.g. typo).\n",
    "\n",
    "This notebook will prompt you with questions. Please answer them in the markdown cell. Do not modify the questions. Your answers should be specific to the code that you are writing, so please avoid generic answers. For example, if asked, \"What do you plan to do?\", please avoid simply answering, \"I will test the code.\" Instead explain how you will test the code and why (e.g. \"I will now test the edge case of an empty list, which should return...\")."
   ]
  },
  {
   "cell_type": "markdown",
   "metadata": {
    "collapsed": true,
    "execution_time": [
     1657630630305,
     1667412703855
    ],
    "pycharm": {
     "name": "#%% md\n"
    }
   },
   "source": [
    "## Task 1 Prompt\n",
    "\n",
    "Have you heard of the fibonacci sequence? It is defined by $f_0 = 0, f_1 = 1$ and $f_n=f_{n-1}+ f_{n-2}$ for $n\\geq 2$.\n",
    "\n",
    "This question is about a similar sequence, called gibonacci sequence. It is defined by $g_0 = x, g_1 = y$ and $g_n=g_{n-1}- g_{n-2}$ for $n\\geq 2$. Different possible starting values of the gibonacci sequence may lead to different gibonacci sequences.\n",
    "\n",
    "### Task\n",
    "You are given three arguments: `n, x, y`. Your task is to find $g_n$ using the above definition of a gibonacci sequence starting with $g_0=x, g_1=y$\n",
    "\n",
    "Write a function `gibonacci(n, x, y)` that takes in 3 arguments.\n",
    "\n",
    "### Inputs\n",
    "\n",
    "It is guaranteed that $n,x,y$ are integers and $0 \\leq n,x,y \\leq 10^9$.\n",
    "\n",
    "### Outputs\n",
    "\n",
    "`gibonacci(n, x, y)` should return $g_n$ given that $g_0=x, g_1=y$.\n",
    "\n",
    "### Examples\n",
    "\n",
    "`gibonacci(0, 0, 1) = 0`\n",
    "\n",
    "`gibonacci(1, 0, 1) = 1`\n",
    "\n",
    "`gibonacci(2, 0, 1) = 1`\n",
    "\n",
    "`gibonacci(3, 0, 1) = 0`"
   ]
  },
  {
   "cell_type": "markdown",
   "metadata": {
    "pycharm": {
     "name": "#%% md\n"
    }
   },
   "source": [
    "**Q: How will you begin?**\n",
    "\n",
    "_(replace this text with your answer)_"
   ]
  },
  {
   "cell_type": "markdown",
   "metadata": {},
   "source": [
    "# My approach to complete this task:\n",
    "\n",
    "* I study the formula first\n",
    "* I have tried to find this code soluation from github or other online resources, but this task really unique one, i'm happy to solve it with my own logic or coding skills.\n",
    "* really enjoy the code \n",
    "* applied advance python concept (recursive with more efficient way)\n",
    "* I hope my code is optimize with syntax or also computational time\n",
    "* loop <b>183 µs</b> VS Recursive total: <b>87 µs</b>\n",
    "    * I'm celebrating that i have optimize the code it term of less code and less time consuming it will help us alot when we will apply on big data, or even we can save money when we run it on cloud servers :) it not only code it will save our time and money infuture :)\n",
    "* I'm always love to lead our team members to complete their task with efficient way "
   ]
  },
  {
   "cell_type": "code",
   "execution_count": 1,
   "metadata": {},
   "outputs": [],
   "source": [
    "def gibonacci(n,x,y):\n",
    "    if n==0: \n",
    "        return x\n",
    "    elif n==1:\n",
    "        return y\n",
    "    else:#               change n-1 on each calling, x=y-x, y = y-x\n",
    "        return gibonacci(n-1,y-x,y-x) "
   ]
  },
  {
   "cell_type": "code",
   "execution_count": 2,
   "metadata": {},
   "outputs": [
    {
     "name": "stdout",
     "output_type": "stream",
     "text": [
      "0\n",
      "CPU times: user 2.05 ms, sys: 351 µs, total: 2.4 ms\n",
      "Wall time: 1.74 ms\n"
     ]
    }
   ],
   "source": [
    "%%time\n",
    "print(gibonacci(0, 0, 1))# = 0\n",
    "# we call above function with n=0, x=0, y=1 result = 0 meat our required result\n",
    "# Validate result = OK"
   ]
  },
  {
   "cell_type": "code",
   "execution_count": 3,
   "metadata": {},
   "outputs": [
    {
     "name": "stdout",
     "output_type": "stream",
     "text": [
      "1\n",
      "CPU times: user 1.23 ms, sys: 218 µs, total: 1.44 ms\n",
      "Wall time: 2.12 ms\n"
     ]
    }
   ],
   "source": [
    "%%time\n",
    "print(gibonacci(1, 0, 1))# = 1\n",
    "# Validate result = OK"
   ]
  },
  {
   "cell_type": "code",
   "execution_count": 4,
   "metadata": {},
   "outputs": [
    {
     "name": "stdout",
     "output_type": "stream",
     "text": [
      "1\n",
      "CPU times: user 1.01 ms, sys: 178 µs, total: 1.19 ms\n",
      "Wall time: 1.96 ms\n"
     ]
    }
   ],
   "source": [
    "%%time\n",
    "print(gibonacci(2, 0, 1))# = 1\n",
    "# Validate result = OK"
   ]
  },
  {
   "cell_type": "code",
   "execution_count": 5,
   "metadata": {},
   "outputs": [
    {
     "name": "stdout",
     "output_type": "stream",
     "text": [
      "0\n",
      "CPU times: user 87 µs, sys: 0 ns, total: 87 µs\n",
      "Wall time: 91.8 µs\n"
     ]
    }
   ],
   "source": [
    "%%time\n",
    "print(gibonacci(3, 0, 1))# = 0\n",
    "# Validate result = OK"
   ]
  },
  {
   "cell_type": "code",
   "execution_count": 6,
   "metadata": {},
   "outputs": [
    {
     "name": "stdout",
     "output_type": "stream",
     "text": [
      "0\n"
     ]
    }
   ],
   "source": [
    "print(gibonacci(5, 1, 1))# = 0\n",
    "# Pass additional parameter also check online result it look ok"
   ]
  },
  {
   "cell_type": "code",
   "execution_count": 7,
   "metadata": {},
   "outputs": [],
   "source": [
    "def gibonacci(n,x,y):\n",
    "    if n==0: \n",
    "        return x\n",
    "    elif n==1:\n",
    "        return y\n",
    "    else:#               change n-1 on each calling, x=y-x, y = y-x\n",
    "        for i in range(1,n):\n",
    "            gn = y-x\n",
    "            y = gn\n",
    "            x = y\n",
    "        return gn\n"
   ]
  },
  {
   "cell_type": "code",
   "execution_count": 8,
   "metadata": {},
   "outputs": [
    {
     "name": "stdout",
     "output_type": "stream",
     "text": [
      "0\n",
      "CPU times: user 156 µs, sys: 27 µs, total: 183 µs\n",
      "Wall time: 152 µs\n"
     ]
    }
   ],
   "source": [
    "%%time\n",
    "print(gibonacci(3, 0, 1))# = 0\n",
    "# Validate result = OK    "
   ]
  },
  {
   "cell_type": "code",
   "execution_count": null,
   "metadata": {},
   "outputs": [],
   "source": []
  },
  {
   "cell_type": "code",
   "execution_count": null,
   "metadata": {},
   "outputs": [],
   "source": []
  }
 ],
 "metadata": {
  "kernelspec": {
   "display_name": "Python 3",
   "language": "python",
   "name": "python3"
  },
  "language_info": {
   "codemirror_mode": {
    "name": "ipython",
    "version": 3
   },
   "file_extension": ".py",
   "mimetype": "text/x-python",
   "name": "python",
   "nbconvert_exporter": "python",
   "pygments_lexer": "ipython3",
   "version": "3.7.15"
  }
 },
 "nbformat": 4,
 "nbformat_minor": 1
}
